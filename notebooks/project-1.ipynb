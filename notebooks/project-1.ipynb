{
 "cells": [
  {
   "cell_type": "code",
   "execution_count": null,
   "id": "870cc9e9",
   "metadata": {},
   "outputs": [],
   "source": [
    "import pandas as pd\n",
    "import matplotlib.pyplot as plt\n",
    "\n",
    "# Пути к файлам\n",
    "btc_path = \"../data/btc_futures.csv\"\n",
    "xrp_path = \"../data/xrp_futures.csv\"\n",
    "\n",
    "# Загрузка\n",
    "btc_df = pd.read_csv(btc_path)\n",
    "xrp_df = pd.read_csv(xrp_path)\n",
    "\n",
    "# Посмотрим на структуру\n",
    "print(\"BTC columns:\", btc_df.columns)\n",
    "print(\"XRP columns:\", xrp_df.columns)\n",
    "\n",
    "# Построим графики цены или объема\n",
    "plt.figure(figsize=(14, 5))\n",
    "\n",
    "plt.subplot(1, 2, 1)\n",
    "plt.plot(btc_df[\"price\"] if \"price\" in btc_df.columns else btc_df.iloc[:, 1])\n",
    "plt.title(\"BTC Futures\")\n",
    "plt.xlabel(\"Time\")\n",
    "plt.ylabel(\"Price or Feature\")\n",
    "\n",
    "plt.subplot(1, 2, 2)\n",
    "plt.plot(xrp_df[\"price\"] if \"price\" in xrp_df.columns else xrp_df.iloc[:, 1])\n",
    "plt.title(\"XRP Futures\")\n",
    "plt.xlabel(\"Time\")\n",
    "plt.ylabel(\"Price or Feature\")\n",
    "\n",
    "plt.tight_layout()\n",
    "plt.show()\n"
   ]
  }
 ],
 "metadata": {
  "language_info": {
   "name": "python"
  }
 },
 "nbformat": 4,
 "nbformat_minor": 5
}
