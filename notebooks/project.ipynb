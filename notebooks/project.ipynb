{
 "cells": [
  {
   "cell_type": "code",
   "execution_count": 1,
   "id": "988dfdce",
   "metadata": {},
   "outputs": [],
   "source": [
    "import yfinance as yf\n",
    "import pandas as pd\n",
    "import numpy as np\n",
    "import random\n",
    "import torch\n",
    "import datetime\n",
    "\n",
    "\n",
    "import sys\n",
    "sys.path.append('../src/utils') \n",
    "from common import get_accuracy\n",
    "device = torch.device(\"cuda\" if torch.cuda.is_available() else \"cpu\")\n",
    "\n",
    "SAVE_PATH = \"/home/s/python_progs/DL_homeworks/deep-metric-ts-clustering/notebooks/model\""
   ]
  },
  {
   "cell_type": "code",
   "execution_count": 2,
   "id": "fbea2dc6",
   "metadata": {},
   "outputs": [
    {
     "name": "stdout",
     "output_type": "stream",
     "text": [
      "YF.download() has changed argument auto_adjust default to True\n"
     ]
    },
    {
     "name": "stderr",
     "output_type": "stream",
     "text": [
      "[*********************100%***********************]  10 of 10 completed"
     ]
    },
    {
     "name": "stdout",
     "output_type": "stream",
     "text": [
      "Ticker            AAPL        AMZN       GOOGL         JNJ         JPM  \\\n",
      "Date                                                                     \n",
      "2020-01-02   72.620827   94.900497   68.108376  126.055145  120.733566   \n",
      "2020-01-03   71.914803   93.748497   67.752075  124.595749  119.140327   \n",
      "2020-01-06   72.487846   95.143997   69.557945  124.440338  119.045586   \n",
      "2020-01-07   72.146942   95.343002   69.423584  125.200233  117.021744   \n",
      "2020-01-08   73.307503   94.598503   69.917732  125.182945  117.934608   \n",
      "...                ...         ...         ...         ...         ...   \n",
      "2023-12-22  192.192551  153.419998  140.816757  149.492691  161.660004   \n",
      "2023-12-26  191.646561  153.410004  140.846634  150.146591  162.616074   \n",
      "2023-12-27  191.745834  153.339996  139.702087  150.348541  163.591431   \n",
      "2023-12-28  192.172714  153.380005  139.562744  150.569702  164.460587   \n",
      "2023-12-29  191.130325  151.940002  139.025330  150.723572  164.267441   \n",
      "\n",
      "Ticker            MSFT       NVDA        TSLA        WMT        XOM  \n",
      "Date                                                                 \n",
      "2020-01-02  153.042282   5.972162   28.684000  36.593365  54.634781  \n",
      "2020-01-03  151.136658   5.876571   29.534000  36.270325  54.195545  \n",
      "2020-01-06  151.527328   5.901215   30.102667  36.196491  54.611668  \n",
      "2020-01-07  150.145691   5.972659   31.270666  35.861137  54.164730  \n",
      "2020-01-08  152.537308   5.983861   32.809334  35.738068  53.347897  \n",
      "...                ...        ...         ...        ...        ...  \n",
      "2023-12-22  370.375763  48.811672  252.539993  51.332783  96.783318  \n",
      "2023-12-26  370.454865  49.260498  256.609985  51.254139  97.001747  \n",
      "2023-12-27  369.871521  49.398449  261.440002  51.735844  96.545891  \n",
      "2023-12-28  371.067932  49.503410  253.179993  51.634254  95.149834  \n",
      "2023-12-29  371.819366  49.503410  248.479996  51.660480  94.950409  \n",
      "\n",
      "[1006 rows x 10 columns]\n"
     ]
    },
    {
     "name": "stderr",
     "output_type": "stream",
     "text": [
      "\n"
     ]
    }
   ],
   "source": [
    "# Select diverse stocks from different sectors\n",
    "tickers = ['AAPL', 'MSFT', 'GOOGL', 'TSLA', 'AMZN', 'JPM', 'JNJ', 'XOM', 'NVDA', 'WMT']\n",
    "ticker_to_class = {ticker: i for i, ticker in enumerate(tickers)}\n",
    "\n",
    "data = yf.download(tickers, start=\"2020-01-01\", end=\"2024-01-01\")['Close']\n",
    "data.dropna(inplace=True)\n",
    "print(data)"
   ]
  },
  {
   "cell_type": "code",
   "execution_count": 3,
   "id": "820db7b6",
   "metadata": {},
   "outputs": [],
   "source": [
    "def create_windows(series, window_size=30, step=1):\n",
    "    windows = []\n",
    "    for i in range(0, len(series) - window_size + 1, step):\n",
    "        window = series[i:i + window_size].values\n",
    "        windows.append(window)\n",
    "    return windows\n",
    "\n",
    "\n",
    "def create_dataset(windows):\n",
    "    dataset = []\n",
    "    for window in windows:\n",
    "\n",
    "        dataset.append((window['window'], ticker_to_class[window['ticker']]))\n",
    "\n",
    "    return dataset\n"
   ]
  },
  {
   "cell_type": "code",
   "execution_count": 4,
   "id": "d22e2748",
   "metadata": {},
   "outputs": [
    {
     "name": "stdout",
     "output_type": "stream",
     "text": [
      "{'ticker': 'AAPL', 'window': array([72.62082672, 71.91480255, 72.48784637, 72.14694214, 73.30750275,\n",
      "       74.86462402, 75.03387451, 76.63691711, 75.60206604, 75.27807617,\n",
      "       76.22105408, 77.06489563, 76.54263306, 76.8158493 , 77.18579102,\n",
      "       76.96333313, 74.70021057, 76.81343842, 78.4213028 , 78.30767822,\n",
      "       74.83560181, 74.63008881, 77.09391022, 77.72257233, 78.63166809,\n",
      "       77.56285858, 77.9312439 , 77.4610672 , 79.30059814, 78.73588562])}\n"
     ]
    }
   ],
   "source": [
    "window_size = 30\n",
    "step = 5  # reduces overlap between samples\n",
    "stock_windows = []  # Dictionary of ticker → list of windows\n",
    "\n",
    "for ticker in tickers:\n",
    "    for window in create_windows(data[ticker], window_size, step):\n",
    "        stock_windows.append({\n",
    "                'ticker': ticker,\n",
    "                'window': window\n",
    "            })\n",
    "print(stock_windows[0])"
   ]
  },
  {
   "cell_type": "code",
   "execution_count": 5,
   "id": "3642ce19",
   "metadata": {},
   "outputs": [],
   "source": [
    "dataset = create_dataset(stock_windows)"
   ]
  },
  {
   "cell_type": "code",
   "execution_count": 6,
   "id": "aaf30ea3",
   "metadata": {},
   "outputs": [],
   "source": [
    "import torch\n",
    "from torch.utils.data import Dataset\n",
    "from torch.utils.data import random_split\n",
    "\n",
    "class StockDataset(Dataset):\n",
    "    def __init__(self, stock_windows):\n",
    "        self.stock_windows = stock_windows\n",
    "        self.labels = [label for _, label in stock_windows]  # Extract and store labels\n",
    "\n",
    "    def __len__(self):\n",
    "        return len(self.stock_windows)\n",
    "\n",
    "    def __getitem__(self, idx):\n",
    "        x, label = self.stock_windows[idx]\n",
    "        x = torch.tensor(x, dtype=torch.float32).unsqueeze(0)  # shape [1, 30]\n",
    "        label = torch.tensor(label, dtype=torch.float32)\n",
    "        return x, label\n",
    "\n",
    "dataset = StockDataset(dataset)\n",
    "\n",
    "\n",
    "train_ratio = 0.8\n",
    "train_size = int(train_ratio * len(dataset))\n",
    "val_size = len(dataset) - train_size\n",
    "\n",
    "\n",
    "train_dataset, val_dataset = random_split(dataset, [train_size, val_size])\n",
    "\n"
   ]
  },
  {
   "cell_type": "code",
   "execution_count": 7,
   "id": "0a8c7066",
   "metadata": {},
   "outputs": [],
   "source": [
    "import torch.nn as nn\n",
    "\n",
    "\n",
    "class Encoder(nn.Module):\n",
    "    def __init__(self, input_dim, encoder_type, embedding_dim=128):\n",
    "        super().__init__()\n",
    "\n",
    "        self.encoder_type = encoder_type\n",
    "        self.embedding_dim = embedding_dim\n",
    "\n",
    "\n",
    "        if encoder_type==\"CNN\":\n",
    "            self.conv_layers = nn.Sequential(\n",
    "                nn.Conv1d(1, 64, kernel_size=3, padding=1),   # [30] → [30]\n",
    "                nn.ReLU(),\n",
    "                nn.Conv1d(64, 64, kernel_size=3, padding=1),  # [30] → [30]\n",
    "                nn.ReLU(),\n",
    "                nn.MaxPool1d(2),                              # [30] → [15]\n",
    "\n",
    "                nn.Conv1d(64, 128, kernel_size=3, padding=1), # [15] → [15]\n",
    "                nn.ReLU(),\n",
    "                nn.Conv1d(128, 128, kernel_size=3, padding=1),# [15] → [15]\n",
    "                nn.ReLU(),\n",
    "                nn.MaxPool1d(2),                              # [15] → [7]\n",
    "\n",
    "                nn.Conv1d(128, 256, kernel_size=3, padding=1),# [7] → [7]\n",
    "                nn.ReLU(),\n",
    "                nn.Conv1d(256, 256, kernel_size=3, padding=1),# [7] → [7]\n",
    "                nn.ReLU(),\n",
    "                nn.MaxPool1d(2),                              # [7] → [3]\n",
    "            )\n",
    "\n",
    "            self.fc = nn.Linear(256 * 3, embedding_dim)\n",
    "\n",
    "\n",
    "        if encoder_type==\"GRU\":\n",
    "            self.num_layers = 5\n",
    "            self.hidden_size = 256\n",
    "            self.gru = nn.GRU(1, self.hidden_size, self.num_layers, batch_first=True)\n",
    "            self.fc = nn.Linear(self.hidden_size, self.embedding_dim)\n",
    "\n",
    "        if encoder_type==\"LSTM\":    \n",
    "            self.num_layers = 5\n",
    "            self.hidden_size = 256\n",
    "            self.lstm = nn.LSTM(1, self.hidden_size, self.num_layers, batch_first=True)\n",
    "            self.fc = nn.Linear(self.hidden_size, self.embedding_dim)\n",
    "\n",
    "    def forward(self, x):\n",
    "        if self.encoder_type==\"CNN\":\n",
    "            # x = x.unsqueeze(1)  # add channel dim: (batch_size, 1, seq_len)\n",
    "            x = self.conv_layers(x)\n",
    "            x = x.view(x.size(0), -1)  # flatten\n",
    "            x = self.fc(x)\n",
    "        \n",
    "        if self.encoder_type==\"GRU\":\n",
    "            x = x.reshape(-1, window_size, 1)\n",
    "\n",
    "            h0 = torch.zeros(self.num_layers, x.size(0), self.hidden_size).to(device)\n",
    "\n",
    "            x, _ = self.gru(x, h0)\n",
    "            x = x[:, -1, :]\n",
    "            x = self.fc(x)\n",
    "            x = nn.functional.normalize(x, p=2, dim=1)\n",
    "\n",
    "        if self.encoder_type==\"LSTM\":\n",
    "            x = x.reshape(-1, window_size, 1)\n",
    "\n",
    "            h0 = torch.zeros(self.num_layers, x.size(0), self.hidden_size).to(device)\n",
    "            c0 = torch.zeros(self.num_layers, x.size(0), self.hidden_size).to(device)\n",
    "\n",
    "\n",
    "            x, _ = self.lstm(x, (h0,c0))\n",
    "            x = x[:, -1, :]\n",
    "            x = self.fc(x)\n",
    "            x = nn.functional.normalize(x, p=2, dim=1)\n",
    "\n",
    "\n",
    "\n",
    "        return x\n",
    "\n",
    "\n"
   ]
  },
  {
   "cell_type": "code",
   "execution_count": null,
   "id": "b0f34dd2",
   "metadata": {},
   "outputs": [
    {
     "data": {
      "text/plain": [
       "Encoder(\n",
       "  (lstm): LSTM(1, 256, num_layers=5, batch_first=True)\n",
       "  (fc): Linear(in_features=256, out_features=128, bias=True)\n",
       ")"
      ]
     },
     "execution_count": 8,
     "metadata": {},
     "output_type": "execute_result"
    }
   ],
   "source": [
    "\n",
    "from torch.utils.data import DataLoader\n",
    "from pytorch_metric_learning import distances, losses, miners, reducers, testers\n",
    "from pytorch_metric_learning.utils.accuracy_calculator import AccuracyCalculator\n",
    "\n",
    "distance = distances.CosineSimilarity()\n",
    "reducer = reducers.ThresholdReducer(low=0)\n",
    "mining_func = miners.TripletMarginMiner(margin=0.2, distance=distance, type_of_triplets=\"semihard\")\n",
    "loss_func = losses.TripletMarginLoss(margin=0.2, distance=distance, reducer=reducer)\n",
    "\n",
    "# model = Encoder(window_size, 'CNN')\n",
    "# model = Encoder(window_size, 'LSTM')\n",
    "model = Encoder(window_size, 'GRU')\n",
    "# model = Encoder(window_size, 'TRANSFORMER')\n",
    "\n",
    "model.to(device)"
   ]
  },
  {
   "cell_type": "code",
   "execution_count": null,
   "id": "08a928ce",
   "metadata": {},
   "outputs": [
    {
     "name": "stdout",
     "output_type": "stream",
     "text": [
      "Epoch 1/1000, Loss: 0.1852\n"
     ]
    },
    {
     "name": "stderr",
     "output_type": "stream",
     "text": [
      "100%|██████████| 13/13 [00:00<00:00, 123.26it/s]\n",
      "100%|██████████| 49/49 [00:00<00:00, 282.21it/s]\n"
     ]
    },
    {
     "name": "stdout",
     "output_type": "stream",
     "text": [
      "Val accuracy: 0.4897959183673469\n",
      "Epoch 11/1000, Loss: 0.1139\n"
     ]
    },
    {
     "name": "stderr",
     "output_type": "stream",
     "text": [
      "100%|██████████| 13/13 [00:00<00:00, 151.22it/s]\n",
      "100%|██████████| 49/49 [00:00<00:00, 383.04it/s]\n"
     ]
    },
    {
     "name": "stdout",
     "output_type": "stream",
     "text": [
      "Val accuracy: 0.4642857142857143\n",
      "Epoch 21/1000, Loss: 0.1113\n"
     ]
    },
    {
     "name": "stderr",
     "output_type": "stream",
     "text": [
      "100%|██████████| 13/13 [00:00<00:00, 188.13it/s]\n",
      "100%|██████████| 49/49 [00:00<00:00, 369.37it/s]\n"
     ]
    },
    {
     "name": "stdout",
     "output_type": "stream",
     "text": [
      "Val accuracy: 0.461734693877551\n",
      "Epoch 31/1000, Loss: 0.1082\n"
     ]
    },
    {
     "name": "stderr",
     "output_type": "stream",
     "text": [
      "100%|██████████| 13/13 [00:00<00:00, 116.22it/s]\n",
      "100%|██████████| 49/49 [00:00<00:00, 262.21it/s]\n"
     ]
    },
    {
     "name": "stdout",
     "output_type": "stream",
     "text": [
      "Val accuracy: 0.46938775510204084\n",
      "Epoch 41/1000, Loss: 0.1102\n"
     ]
    },
    {
     "name": "stderr",
     "output_type": "stream",
     "text": [
      "100%|██████████| 13/13 [00:00<00:00, 129.66it/s]\n",
      "100%|██████████| 49/49 [00:00<00:00, 258.15it/s]\n"
     ]
    },
    {
     "name": "stdout",
     "output_type": "stream",
     "text": [
      "Val accuracy: 0.4923469387755102\n",
      "Epoch 51/1000, Loss: 0.1080\n"
     ]
    },
    {
     "name": "stderr",
     "output_type": "stream",
     "text": [
      "100%|██████████| 13/13 [00:00<00:00, 126.14it/s]\n",
      "100%|██████████| 49/49 [00:00<00:00, 323.59it/s]\n"
     ]
    },
    {
     "name": "stdout",
     "output_type": "stream",
     "text": [
      "Val accuracy: 0.4770408163265306\n",
      "Epoch 61/1000, Loss: 0.1095\n"
     ]
    },
    {
     "name": "stderr",
     "output_type": "stream",
     "text": [
      "100%|██████████| 13/13 [00:00<00:00, 184.03it/s]\n",
      "100%|██████████| 49/49 [00:00<00:00, 300.38it/s]\n"
     ]
    },
    {
     "name": "stdout",
     "output_type": "stream",
     "text": [
      "Val accuracy: 0.4642857142857143\n",
      "Epoch 71/1000, Loss: 0.1059\n"
     ]
    },
    {
     "name": "stderr",
     "output_type": "stream",
     "text": [
      "100%|██████████| 13/13 [00:00<00:00, 115.13it/s]\n",
      "100%|██████████| 49/49 [00:00<00:00, 329.62it/s]\n"
     ]
    },
    {
     "name": "stdout",
     "output_type": "stream",
     "text": [
      "Val accuracy: 0.4642857142857143\n",
      "Epoch 81/1000, Loss: 0.1102\n"
     ]
    },
    {
     "name": "stderr",
     "output_type": "stream",
     "text": [
      "100%|██████████| 13/13 [00:00<00:00, 112.68it/s]\n",
      "100%|██████████| 49/49 [00:00<00:00, 274.74it/s]\n"
     ]
    },
    {
     "name": "stdout",
     "output_type": "stream",
     "text": [
      "Val accuracy: 0.4872448979591837\n",
      "Epoch 91/1000, Loss: 0.1079\n"
     ]
    },
    {
     "name": "stderr",
     "output_type": "stream",
     "text": [
      "100%|██████████| 13/13 [00:00<00:00, 163.49it/s]\n",
      "100%|██████████| 49/49 [00:00<00:00, 431.51it/s]"
     ]
    },
    {
     "name": "stdout",
     "output_type": "stream",
     "text": [
      "Val accuracy: 0.46683673469387754\n"
     ]
    },
    {
     "name": "stderr",
     "output_type": "stream",
     "text": [
      "\n"
     ]
    },
    {
     "name": "stdout",
     "output_type": "stream",
     "text": [
      "Epoch 101/1000, Loss: 0.1056\n"
     ]
    },
    {
     "name": "stderr",
     "output_type": "stream",
     "text": [
      "100%|██████████| 13/13 [00:00<00:00, 158.72it/s]\n",
      "100%|██████████| 49/49 [00:00<00:00, 265.82it/s]\n"
     ]
    },
    {
     "name": "stdout",
     "output_type": "stream",
     "text": [
      "Val accuracy: 0.4642857142857143\n",
      "Epoch 111/1000, Loss: 0.1051\n"
     ]
    },
    {
     "name": "stderr",
     "output_type": "stream",
     "text": [
      "100%|██████████| 13/13 [00:00<00:00, 128.92it/s]\n",
      "100%|██████████| 49/49 [00:00<00:00, 328.52it/s]\n"
     ]
    },
    {
     "name": "stdout",
     "output_type": "stream",
     "text": [
      "Val accuracy: 0.4489795918367347\n",
      "Epoch 121/1000, Loss: 0.1098\n"
     ]
    },
    {
     "name": "stderr",
     "output_type": "stream",
     "text": [
      "100%|██████████| 13/13 [00:00<00:00, 153.69it/s]\n",
      "100%|██████████| 49/49 [00:00<00:00, 312.55it/s]\n"
     ]
    },
    {
     "name": "stdout",
     "output_type": "stream",
     "text": [
      "Val accuracy: 0.47959183673469385\n",
      "Epoch 131/1000, Loss: 0.1095\n"
     ]
    },
    {
     "name": "stderr",
     "output_type": "stream",
     "text": [
      "100%|██████████| 13/13 [00:00<00:00, 142.24it/s]\n",
      "100%|██████████| 49/49 [00:00<00:00, 339.68it/s]\n"
     ]
    },
    {
     "name": "stdout",
     "output_type": "stream",
     "text": [
      "Val accuracy: 0.4770408163265306\n",
      "Epoch 141/1000, Loss: 0.1055\n"
     ]
    },
    {
     "name": "stderr",
     "output_type": "stream",
     "text": [
      "100%|██████████| 13/13 [00:00<00:00, 123.72it/s]\n",
      "100%|██████████| 49/49 [00:00<00:00, 291.43it/s]\n"
     ]
    },
    {
     "name": "stdout",
     "output_type": "stream",
     "text": [
      "Val accuracy: 0.44642857142857145\n",
      "Epoch 151/1000, Loss: 0.1062\n"
     ]
    },
    {
     "name": "stderr",
     "output_type": "stream",
     "text": [
      "100%|██████████| 13/13 [00:00<00:00, 179.02it/s]\n",
      "100%|██████████| 49/49 [00:00<00:00, 293.70it/s]\n"
     ]
    },
    {
     "name": "stdout",
     "output_type": "stream",
     "text": [
      "Val accuracy: 0.45408163265306123\n",
      "Epoch 161/1000, Loss: 0.1102\n"
     ]
    },
    {
     "name": "stderr",
     "output_type": "stream",
     "text": [
      "100%|██████████| 13/13 [00:00<00:00, 126.52it/s]\n",
      "100%|██████████| 49/49 [00:00<00:00, 235.28it/s]\n"
     ]
    },
    {
     "name": "stdout",
     "output_type": "stream",
     "text": [
      "Val accuracy: 0.4719387755102041\n",
      "Epoch 171/1000, Loss: 0.1058\n"
     ]
    },
    {
     "name": "stderr",
     "output_type": "stream",
     "text": [
      "100%|██████████| 13/13 [00:00<00:00, 148.00it/s]\n",
      "100%|██████████| 49/49 [00:00<00:00, 306.64it/s]\n"
     ]
    },
    {
     "name": "stdout",
     "output_type": "stream",
     "text": [
      "Val accuracy: 0.461734693877551\n",
      "Epoch 181/1000, Loss: 0.1084\n"
     ]
    },
    {
     "name": "stderr",
     "output_type": "stream",
     "text": [
      "100%|██████████| 13/13 [00:00<00:00, 140.92it/s]\n",
      "100%|██████████| 49/49 [00:00<00:00, 304.50it/s]\n"
     ]
    },
    {
     "name": "stdout",
     "output_type": "stream",
     "text": [
      "Val accuracy: 0.4872448979591837\n",
      "Epoch 191/1000, Loss: 0.1057\n"
     ]
    },
    {
     "name": "stderr",
     "output_type": "stream",
     "text": [
      "100%|██████████| 13/13 [00:00<00:00, 146.75it/s]\n",
      "100%|██████████| 49/49 [00:00<00:00, 241.66it/s]\n"
     ]
    },
    {
     "name": "stdout",
     "output_type": "stream",
     "text": [
      "Val accuracy: 0.45918367346938777\n",
      "Epoch 201/1000, Loss: 0.1060\n"
     ]
    },
    {
     "name": "stderr",
     "output_type": "stream",
     "text": [
      "100%|██████████| 13/13 [00:00<00:00, 149.15it/s]\n",
      "100%|██████████| 49/49 [00:00<00:00, 433.60it/s]\n"
     ]
    },
    {
     "name": "stdout",
     "output_type": "stream",
     "text": [
      "Val accuracy: 0.4744897959183674\n",
      "Epoch 211/1000, Loss: 0.1067\n"
     ]
    },
    {
     "name": "stderr",
     "output_type": "stream",
     "text": [
      "100%|██████████| 13/13 [00:00<00:00, 127.75it/s]\n",
      "100%|██████████| 49/49 [00:00<00:00, 421.29it/s]\n"
     ]
    },
    {
     "name": "stdout",
     "output_type": "stream",
     "text": [
      "Val accuracy: 0.4897959183673469\n",
      "Epoch 221/1000, Loss: 0.1112\n"
     ]
    },
    {
     "name": "stderr",
     "output_type": "stream",
     "text": [
      "100%|██████████| 13/13 [00:00<00:00, 152.30it/s]\n",
      "100%|██████████| 49/49 [00:00<00:00, 325.30it/s]\n"
     ]
    },
    {
     "name": "stdout",
     "output_type": "stream",
     "text": [
      "Val accuracy: 0.45408163265306123\n",
      "Epoch 231/1000, Loss: 0.1069\n"
     ]
    },
    {
     "name": "stderr",
     "output_type": "stream",
     "text": [
      "100%|██████████| 13/13 [00:00<00:00, 152.58it/s]\n",
      "100%|██████████| 49/49 [00:00<00:00, 252.06it/s]\n"
     ]
    },
    {
     "name": "stdout",
     "output_type": "stream",
     "text": [
      "Val accuracy: 0.4770408163265306\n",
      "Epoch 241/1000, Loss: 0.1091\n"
     ]
    },
    {
     "name": "stderr",
     "output_type": "stream",
     "text": [
      "100%|██████████| 13/13 [00:00<00:00, 158.63it/s]\n",
      "100%|██████████| 49/49 [00:00<00:00, 405.85it/s]\n"
     ]
    },
    {
     "name": "stdout",
     "output_type": "stream",
     "text": [
      "Val accuracy: 0.4846938775510204\n",
      "Epoch 251/1000, Loss: 0.1050\n"
     ]
    },
    {
     "name": "stderr",
     "output_type": "stream",
     "text": [
      "100%|██████████| 13/13 [00:00<00:00, 141.54it/s]\n",
      "100%|██████████| 49/49 [00:00<00:00, 303.52it/s]\n"
     ]
    },
    {
     "name": "stdout",
     "output_type": "stream",
     "text": [
      "Val accuracy: 0.5076530612244898\n",
      "Epoch 261/1000, Loss: 0.1094\n"
     ]
    },
    {
     "name": "stderr",
     "output_type": "stream",
     "text": [
      "100%|██████████| 13/13 [00:00<00:00, 149.27it/s]\n",
      "100%|██████████| 49/49 [00:00<00:00, 240.49it/s]\n"
     ]
    },
    {
     "name": "stdout",
     "output_type": "stream",
     "text": [
      "Val accuracy: 0.5255102040816326\n",
      "Epoch 271/1000, Loss: 0.1107\n"
     ]
    },
    {
     "name": "stderr",
     "output_type": "stream",
     "text": [
      "100%|██████████| 13/13 [00:00<00:00, 136.91it/s]\n",
      "100%|██████████| 49/49 [00:00<00:00, 361.50it/s]\n"
     ]
    },
    {
     "name": "stdout",
     "output_type": "stream",
     "text": [
      "Val accuracy: 0.4897959183673469\n",
      "Epoch 281/1000, Loss: 0.1007\n"
     ]
    },
    {
     "name": "stderr",
     "output_type": "stream",
     "text": [
      "100%|██████████| 13/13 [00:00<00:00, 198.23it/s]\n",
      "100%|██████████| 49/49 [00:00<00:00, 250.48it/s]\n"
     ]
    },
    {
     "name": "stdout",
     "output_type": "stream",
     "text": [
      "Val accuracy: 0.5076530612244898\n",
      "Epoch 291/1000, Loss: 0.1115\n"
     ]
    },
    {
     "name": "stderr",
     "output_type": "stream",
     "text": [
      "100%|██████████| 13/13 [00:00<00:00, 197.62it/s]\n",
      "100%|██████████| 49/49 [00:00<00:00, 273.46it/s]\n"
     ]
    },
    {
     "name": "stdout",
     "output_type": "stream",
     "text": [
      "Val accuracy: 0.5306122448979592\n",
      "Epoch 301/1000, Loss: 0.1048\n"
     ]
    },
    {
     "name": "stderr",
     "output_type": "stream",
     "text": [
      "100%|██████████| 13/13 [00:00<00:00, 122.32it/s]\n",
      "100%|██████████| 49/49 [00:00<00:00, 303.34it/s]\n"
     ]
    },
    {
     "name": "stdout",
     "output_type": "stream",
     "text": [
      "Val accuracy: 0.5280612244897959\n",
      "Epoch 311/1000, Loss: 0.1074\n"
     ]
    },
    {
     "name": "stderr",
     "output_type": "stream",
     "text": [
      "100%|██████████| 13/13 [00:00<00:00, 155.41it/s]\n",
      "100%|██████████| 49/49 [00:00<00:00, 301.10it/s]\n"
     ]
    },
    {
     "name": "stdout",
     "output_type": "stream",
     "text": [
      "Val accuracy: 0.5076530612244898\n",
      "Epoch 321/1000, Loss: 0.1127\n"
     ]
    },
    {
     "name": "stderr",
     "output_type": "stream",
     "text": [
      "100%|██████████| 13/13 [00:00<00:00, 200.13it/s]\n",
      "100%|██████████| 49/49 [00:00<00:00, 420.03it/s]"
     ]
    },
    {
     "name": "stdout",
     "output_type": "stream",
     "text": [
      "Val accuracy: 0.5255102040816326\n"
     ]
    },
    {
     "name": "stderr",
     "output_type": "stream",
     "text": [
      "\n"
     ]
    },
    {
     "name": "stdout",
     "output_type": "stream",
     "text": [
      "Epoch 331/1000, Loss: 0.1112\n"
     ]
    },
    {
     "name": "stderr",
     "output_type": "stream",
     "text": [
      "100%|██████████| 13/13 [00:00<00:00, 147.70it/s]\n",
      "100%|██████████| 49/49 [00:00<00:00, 348.27it/s]\n"
     ]
    },
    {
     "name": "stdout",
     "output_type": "stream",
     "text": [
      "Val accuracy: 0.5459183673469388\n",
      "Epoch 341/1000, Loss: 0.1074\n"
     ]
    },
    {
     "name": "stderr",
     "output_type": "stream",
     "text": [
      "100%|██████████| 13/13 [00:00<00:00, 157.96it/s]\n",
      "100%|██████████| 49/49 [00:00<00:00, 315.19it/s]\n"
     ]
    },
    {
     "name": "stdout",
     "output_type": "stream",
     "text": [
      "Val accuracy: 0.5204081632653061\n",
      "Epoch 351/1000, Loss: 0.1113\n"
     ]
    },
    {
     "name": "stderr",
     "output_type": "stream",
     "text": [
      "100%|██████████| 13/13 [00:00<00:00, 170.60it/s]\n",
      "100%|██████████| 49/49 [00:00<00:00, 306.47it/s]\n"
     ]
    },
    {
     "name": "stdout",
     "output_type": "stream",
     "text": [
      "Val accuracy: 0.5918367346938775\n",
      "Epoch 361/1000, Loss: 0.1119\n"
     ]
    },
    {
     "name": "stderr",
     "output_type": "stream",
     "text": [
      "100%|██████████| 13/13 [00:00<00:00, 143.77it/s]\n",
      "100%|██████████| 49/49 [00:00<00:00, 278.46it/s]\n"
     ]
    },
    {
     "name": "stdout",
     "output_type": "stream",
     "text": [
      "Val accuracy: 0.5204081632653061\n",
      "Epoch 371/1000, Loss: 0.1068\n"
     ]
    },
    {
     "name": "stderr",
     "output_type": "stream",
     "text": [
      "100%|██████████| 13/13 [00:00<00:00, 161.31it/s]\n",
      "100%|██████████| 49/49 [00:00<00:00, 335.81it/s]\n"
     ]
    },
    {
     "name": "stdout",
     "output_type": "stream",
     "text": [
      "Val accuracy: 0.5\n",
      "Epoch 381/1000, Loss: 0.1057\n"
     ]
    },
    {
     "name": "stderr",
     "output_type": "stream",
     "text": [
      "100%|██████████| 13/13 [00:00<00:00, 152.24it/s]\n",
      "100%|██████████| 49/49 [00:00<00:00, 283.59it/s]\n"
     ]
    },
    {
     "name": "stdout",
     "output_type": "stream",
     "text": [
      "Val accuracy: 0.548469387755102\n",
      "Epoch 391/1000, Loss: 0.1068\n"
     ]
    },
    {
     "name": "stderr",
     "output_type": "stream",
     "text": [
      "100%|██████████| 13/13 [00:00<00:00, 136.62it/s]\n",
      "100%|██████████| 49/49 [00:00<00:00, 298.60it/s]\n"
     ]
    },
    {
     "name": "stdout",
     "output_type": "stream",
     "text": [
      "Val accuracy: 0.4897959183673469\n",
      "Epoch 401/1000, Loss: 0.1035\n"
     ]
    },
    {
     "name": "stderr",
     "output_type": "stream",
     "text": [
      "100%|██████████| 13/13 [00:00<00:00, 140.55it/s]\n",
      "100%|██████████| 49/49 [00:00<00:00, 338.46it/s]\n"
     ]
    },
    {
     "name": "stdout",
     "output_type": "stream",
     "text": [
      "Val accuracy: 0.5076530612244898\n",
      "Epoch 411/1000, Loss: 0.1013\n"
     ]
    },
    {
     "name": "stderr",
     "output_type": "stream",
     "text": [
      "100%|██████████| 13/13 [00:00<00:00, 157.68it/s]\n",
      "100%|██████████| 49/49 [00:00<00:00, 291.39it/s]\n"
     ]
    },
    {
     "name": "stdout",
     "output_type": "stream",
     "text": [
      "Val accuracy: 0.548469387755102\n",
      "Epoch 421/1000, Loss: 0.1040\n"
     ]
    },
    {
     "name": "stderr",
     "output_type": "stream",
     "text": [
      "100%|██████████| 13/13 [00:00<00:00, 199.00it/s]\n",
      "100%|██████████| 49/49 [00:00<00:00, 340.65it/s]\n"
     ]
    },
    {
     "name": "stdout",
     "output_type": "stream",
     "text": [
      "Val accuracy: 0.5178571428571429\n",
      "Epoch 431/1000, Loss: 0.1015\n"
     ]
    },
    {
     "name": "stderr",
     "output_type": "stream",
     "text": [
      "100%|██████████| 13/13 [00:00<00:00, 145.88it/s]\n",
      "100%|██████████| 49/49 [00:00<00:00, 303.74it/s]\n"
     ]
    },
    {
     "name": "stdout",
     "output_type": "stream",
     "text": [
      "Val accuracy: 0.5229591836734694\n",
      "Epoch 441/1000, Loss: 0.1078\n"
     ]
    },
    {
     "name": "stderr",
     "output_type": "stream",
     "text": [
      "100%|██████████| 13/13 [00:00<00:00, 164.70it/s]\n",
      "100%|██████████| 49/49 [00:00<00:00, 284.35it/s]\n"
     ]
    },
    {
     "name": "stdout",
     "output_type": "stream",
     "text": [
      "Val accuracy: 0.5\n",
      "Epoch 451/1000, Loss: 0.1084\n"
     ]
    },
    {
     "name": "stderr",
     "output_type": "stream",
     "text": [
      "100%|██████████| 13/13 [00:00<00:00, 145.83it/s]\n",
      "100%|██████████| 49/49 [00:00<00:00, 285.53it/s]\n"
     ]
    },
    {
     "name": "stdout",
     "output_type": "stream",
     "text": [
      "Val accuracy: 0.4770408163265306\n",
      "Epoch 461/1000, Loss: 0.1052\n"
     ]
    },
    {
     "name": "stderr",
     "output_type": "stream",
     "text": [
      "100%|██████████| 13/13 [00:00<00:00, 129.14it/s]\n",
      "100%|██████████| 49/49 [00:00<00:00, 359.28it/s]\n"
     ]
    },
    {
     "name": "stdout",
     "output_type": "stream",
     "text": [
      "Val accuracy: 0.5688775510204082\n",
      "Epoch 471/1000, Loss: 0.1036\n"
     ]
    },
    {
     "name": "stderr",
     "output_type": "stream",
     "text": [
      "100%|██████████| 13/13 [00:00<00:00, 162.33it/s]\n",
      "100%|██████████| 49/49 [00:00<00:00, 320.03it/s]\n"
     ]
    },
    {
     "name": "stdout",
     "output_type": "stream",
     "text": [
      "Val accuracy: 0.5357142857142857\n",
      "Epoch 481/1000, Loss: 0.1053\n"
     ]
    },
    {
     "name": "stderr",
     "output_type": "stream",
     "text": [
      "100%|██████████| 13/13 [00:00<00:00, 122.40it/s]\n",
      "100%|██████████| 49/49 [00:00<00:00, 338.28it/s]\n"
     ]
    },
    {
     "name": "stdout",
     "output_type": "stream",
     "text": [
      "Val accuracy: 0.5127551020408163\n",
      "Epoch 491/1000, Loss: 0.1055\n"
     ]
    },
    {
     "name": "stderr",
     "output_type": "stream",
     "text": [
      "100%|██████████| 13/13 [00:00<00:00, 167.22it/s]\n",
      "100%|██████████| 49/49 [00:00<00:00, 275.19it/s]\n"
     ]
    },
    {
     "name": "stdout",
     "output_type": "stream",
     "text": [
      "Val accuracy: 0.49744897959183676\n",
      "Epoch 501/1000, Loss: 0.1074\n"
     ]
    },
    {
     "name": "stderr",
     "output_type": "stream",
     "text": [
      "100%|██████████| 13/13 [00:00<00:00, 150.74it/s]\n",
      "100%|██████████| 49/49 [00:00<00:00, 306.11it/s]\n"
     ]
    },
    {
     "name": "stdout",
     "output_type": "stream",
     "text": [
      "Val accuracy: 0.576530612244898\n",
      "Epoch 511/1000, Loss: 0.1026\n"
     ]
    },
    {
     "name": "stderr",
     "output_type": "stream",
     "text": [
      "100%|██████████| 13/13 [00:00<00:00, 127.69it/s]\n",
      "100%|██████████| 49/49 [00:00<00:00, 317.33it/s]\n"
     ]
    },
    {
     "name": "stdout",
     "output_type": "stream",
     "text": [
      "Val accuracy: 0.5204081632653061\n",
      "Epoch 521/1000, Loss: 0.1016\n"
     ]
    },
    {
     "name": "stderr",
     "output_type": "stream",
     "text": [
      "100%|██████████| 13/13 [00:00<00:00, 155.97it/s]\n",
      "100%|██████████| 49/49 [00:00<00:00, 359.06it/s]\n"
     ]
    },
    {
     "name": "stdout",
     "output_type": "stream",
     "text": [
      "Val accuracy: 0.5433673469387755\n",
      "Epoch 531/1000, Loss: 0.1038\n"
     ]
    },
    {
     "name": "stderr",
     "output_type": "stream",
     "text": [
      "100%|██████████| 13/13 [00:00<00:00, 199.31it/s]\n",
      "100%|██████████| 49/49 [00:00<00:00, 366.23it/s]\n"
     ]
    },
    {
     "name": "stdout",
     "output_type": "stream",
     "text": [
      "Val accuracy: 0.5255102040816326\n",
      "Epoch 541/1000, Loss: 0.1010\n"
     ]
    },
    {
     "name": "stderr",
     "output_type": "stream",
     "text": [
      "100%|██████████| 13/13 [00:00<00:00, 147.55it/s]\n",
      "100%|██████████| 49/49 [00:00<00:00, 280.82it/s]\n"
     ]
    },
    {
     "name": "stdout",
     "output_type": "stream",
     "text": [
      "Val accuracy: 0.548469387755102\n",
      "Epoch 551/1000, Loss: 0.1054\n"
     ]
    },
    {
     "name": "stderr",
     "output_type": "stream",
     "text": [
      "100%|██████████| 13/13 [00:00<00:00, 98.60it/s] \n",
      "100%|██████████| 49/49 [00:00<00:00, 275.78it/s]\n"
     ]
    },
    {
     "name": "stdout",
     "output_type": "stream",
     "text": [
      "Val accuracy: 0.5510204081632653\n",
      "Epoch 561/1000, Loss: 0.0989\n"
     ]
    },
    {
     "name": "stderr",
     "output_type": "stream",
     "text": [
      "100%|██████████| 13/13 [00:00<00:00, 143.95it/s]\n",
      "100%|██████████| 49/49 [00:00<00:00, 245.89it/s]\n"
     ]
    },
    {
     "name": "stdout",
     "output_type": "stream",
     "text": [
      "Val accuracy: 0.576530612244898\n",
      "Epoch 571/1000, Loss: 0.1026\n"
     ]
    },
    {
     "name": "stderr",
     "output_type": "stream",
     "text": [
      "100%|██████████| 13/13 [00:00<00:00, 175.18it/s]\n",
      "100%|██████████| 49/49 [00:00<00:00, 382.45it/s]\n"
     ]
    },
    {
     "name": "stdout",
     "output_type": "stream",
     "text": [
      "Val accuracy: 0.5841836734693877\n",
      "Epoch 581/1000, Loss: 0.1032\n"
     ]
    },
    {
     "name": "stderr",
     "output_type": "stream",
     "text": [
      "100%|██████████| 13/13 [00:00<00:00, 173.82it/s]\n",
      "100%|██████████| 49/49 [00:00<00:00, 282.56it/s]\n"
     ]
    },
    {
     "name": "stdout",
     "output_type": "stream",
     "text": [
      "Val accuracy: 0.5969387755102041\n",
      "Epoch 591/1000, Loss: 0.1005\n"
     ]
    },
    {
     "name": "stderr",
     "output_type": "stream",
     "text": [
      "100%|██████████| 13/13 [00:00<00:00, 123.87it/s]\n",
      "100%|██████████| 49/49 [00:00<00:00, 229.06it/s]\n"
     ]
    },
    {
     "name": "stdout",
     "output_type": "stream",
     "text": [
      "Val accuracy: 0.5816326530612245\n",
      "Epoch 601/1000, Loss: 0.1016\n"
     ]
    },
    {
     "name": "stderr",
     "output_type": "stream",
     "text": [
      "100%|██████████| 13/13 [00:00<00:00, 154.80it/s]\n",
      "100%|██████████| 49/49 [00:00<00:00, 284.98it/s]\n"
     ]
    },
    {
     "name": "stdout",
     "output_type": "stream",
     "text": [
      "Val accuracy: 0.6505102040816326\n",
      "Epoch 611/1000, Loss: 0.1051\n"
     ]
    },
    {
     "name": "stderr",
     "output_type": "stream",
     "text": [
      "100%|██████████| 13/13 [00:00<00:00, 143.68it/s]\n",
      "100%|██████████| 49/49 [00:00<00:00, 288.51it/s]\n"
     ]
    },
    {
     "name": "stdout",
     "output_type": "stream",
     "text": [
      "Val accuracy: 0.5790816326530612\n",
      "Epoch 621/1000, Loss: 0.1030\n"
     ]
    },
    {
     "name": "stderr",
     "output_type": "stream",
     "text": [
      "100%|██████████| 13/13 [00:00<00:00, 177.65it/s]\n",
      "100%|██████████| 49/49 [00:00<00:00, 282.98it/s]\n"
     ]
    },
    {
     "name": "stdout",
     "output_type": "stream",
     "text": [
      "Val accuracy: 0.5994897959183674\n",
      "Epoch 631/1000, Loss: 0.0975\n"
     ]
    },
    {
     "name": "stderr",
     "output_type": "stream",
     "text": [
      "100%|██████████| 13/13 [00:00<00:00, 139.52it/s]\n",
      "100%|██████████| 49/49 [00:00<00:00, 303.99it/s]\n"
     ]
    },
    {
     "name": "stdout",
     "output_type": "stream",
     "text": [
      "Val accuracy: 0.5969387755102041\n",
      "Epoch 641/1000, Loss: 0.1026\n"
     ]
    },
    {
     "name": "stderr",
     "output_type": "stream",
     "text": [
      "100%|██████████| 13/13 [00:00<00:00, 150.35it/s]\n",
      "100%|██████████| 49/49 [00:00<00:00, 224.57it/s]\n"
     ]
    },
    {
     "name": "stdout",
     "output_type": "stream",
     "text": [
      "Val accuracy: 0.6352040816326531\n",
      "Epoch 651/1000, Loss: 0.1040\n"
     ]
    },
    {
     "name": "stderr",
     "output_type": "stream",
     "text": [
      "100%|██████████| 13/13 [00:00<00:00, 168.00it/s]\n",
      "100%|██████████| 49/49 [00:00<00:00, 282.03it/s]\n"
     ]
    },
    {
     "name": "stdout",
     "output_type": "stream",
     "text": [
      "Val accuracy: 0.5943877551020408\n",
      "Epoch 661/1000, Loss: 0.1013\n"
     ]
    },
    {
     "name": "stderr",
     "output_type": "stream",
     "text": [
      "100%|██████████| 13/13 [00:00<00:00, 151.84it/s]\n",
      "100%|██████████| 49/49 [00:00<00:00, 258.61it/s]\n"
     ]
    },
    {
     "name": "stdout",
     "output_type": "stream",
     "text": [
      "Val accuracy: 0.6301020408163265\n",
      "Epoch 671/1000, Loss: 0.1028\n"
     ]
    },
    {
     "name": "stderr",
     "output_type": "stream",
     "text": [
      "100%|██████████| 13/13 [00:00<00:00, 188.03it/s]\n",
      "100%|██████████| 49/49 [00:00<00:00, 266.88it/s]\n"
     ]
    },
    {
     "name": "stdout",
     "output_type": "stream",
     "text": [
      "Val accuracy: 0.6301020408163265\n",
      "Epoch 681/1000, Loss: 0.1039\n"
     ]
    },
    {
     "name": "stderr",
     "output_type": "stream",
     "text": [
      "100%|██████████| 13/13 [00:00<00:00, 184.79it/s]\n",
      "100%|██████████| 49/49 [00:00<00:00, 240.34it/s]\n"
     ]
    },
    {
     "name": "stdout",
     "output_type": "stream",
     "text": [
      "Val accuracy: 0.6173469387755102\n",
      "Epoch 691/1000, Loss: 0.1030\n"
     ]
    },
    {
     "name": "stderr",
     "output_type": "stream",
     "text": [
      "100%|██████████| 13/13 [00:00<00:00, 140.28it/s]\n",
      "100%|██████████| 49/49 [00:00<00:00, 287.65it/s]\n"
     ]
    },
    {
     "name": "stdout",
     "output_type": "stream",
     "text": [
      "Val accuracy: 0.6301020408163265\n",
      "Epoch 701/1000, Loss: 0.0993\n"
     ]
    },
    {
     "name": "stderr",
     "output_type": "stream",
     "text": [
      "100%|██████████| 13/13 [00:00<00:00, 146.69it/s]\n",
      "100%|██████████| 49/49 [00:00<00:00, 295.34it/s]\n"
     ]
    },
    {
     "name": "stdout",
     "output_type": "stream",
     "text": [
      "Val accuracy: 0.6556122448979592\n",
      "Epoch 711/1000, Loss: 0.1011\n"
     ]
    },
    {
     "name": "stderr",
     "output_type": "stream",
     "text": [
      "100%|██████████| 13/13 [00:00<00:00, 167.06it/s]\n",
      "100%|██████████| 49/49 [00:00<00:00, 326.30it/s]\n"
     ]
    },
    {
     "name": "stdout",
     "output_type": "stream",
     "text": [
      "Val accuracy: 0.6760204081632653\n",
      "Epoch 721/1000, Loss: 0.0997\n"
     ]
    },
    {
     "name": "stderr",
     "output_type": "stream",
     "text": [
      "100%|██████████| 13/13 [00:00<00:00, 151.87it/s]\n",
      "100%|██████████| 49/49 [00:00<00:00, 262.14it/s]\n"
     ]
    },
    {
     "name": "stdout",
     "output_type": "stream",
     "text": [
      "Val accuracy: 0.6301020408163265\n",
      "Epoch 731/1000, Loss: 0.1091\n"
     ]
    },
    {
     "name": "stderr",
     "output_type": "stream",
     "text": [
      "100%|██████████| 13/13 [00:00<00:00, 168.50it/s]\n",
      "100%|██████████| 49/49 [00:00<00:00, 299.20it/s]\n"
     ]
    },
    {
     "name": "stdout",
     "output_type": "stream",
     "text": [
      "Val accuracy: 0.6479591836734694\n",
      "Epoch 741/1000, Loss: 0.1138\n"
     ]
    },
    {
     "name": "stderr",
     "output_type": "stream",
     "text": [
      "100%|██████████| 13/13 [00:00<00:00, 119.70it/s]\n",
      "100%|██████████| 49/49 [00:00<00:00, 238.11it/s]\n"
     ]
    },
    {
     "name": "stdout",
     "output_type": "stream",
     "text": [
      "Val accuracy: 0.6454081632653061\n",
      "Epoch 751/1000, Loss: 0.0997\n"
     ]
    },
    {
     "name": "stderr",
     "output_type": "stream",
     "text": [
      "100%|██████████| 13/13 [00:00<00:00, 142.89it/s]\n",
      "100%|██████████| 49/49 [00:00<00:00, 337.28it/s]\n"
     ]
    },
    {
     "name": "stdout",
     "output_type": "stream",
     "text": [
      "Val accuracy: 0.6556122448979592\n",
      "Epoch 761/1000, Loss: 0.0996\n"
     ]
    },
    {
     "name": "stderr",
     "output_type": "stream",
     "text": [
      "100%|██████████| 13/13 [00:00<00:00, 128.95it/s]\n",
      "100%|██████████| 49/49 [00:00<00:00, 280.76it/s]\n"
     ]
    },
    {
     "name": "stdout",
     "output_type": "stream",
     "text": [
      "Val accuracy: 0.6658163265306123\n",
      "Epoch 771/1000, Loss: 0.1041\n"
     ]
    },
    {
     "name": "stderr",
     "output_type": "stream",
     "text": [
      "100%|██████████| 13/13 [00:00<00:00, 169.84it/s]\n",
      "100%|██████████| 49/49 [00:00<00:00, 278.06it/s]\n"
     ]
    },
    {
     "name": "stdout",
     "output_type": "stream",
     "text": [
      "Val accuracy: 0.7040816326530612\n",
      "Epoch 781/1000, Loss: 0.1011\n"
     ]
    },
    {
     "name": "stderr",
     "output_type": "stream",
     "text": [
      "100%|██████████| 13/13 [00:00<00:00, 157.45it/s]\n",
      "100%|██████████| 49/49 [00:00<00:00, 252.12it/s]\n"
     ]
    },
    {
     "name": "stdout",
     "output_type": "stream",
     "text": [
      "Val accuracy: 0.5255102040816326\n",
      "Epoch 791/1000, Loss: 0.1047\n"
     ]
    },
    {
     "name": "stderr",
     "output_type": "stream",
     "text": [
      "100%|██████████| 13/13 [00:00<00:00, 184.09it/s]\n",
      "100%|██████████| 49/49 [00:00<00:00, 285.76it/s]\n"
     ]
    },
    {
     "name": "stdout",
     "output_type": "stream",
     "text": [
      "Val accuracy: 0.5612244897959183\n",
      "Epoch 801/1000, Loss: 0.1006\n"
     ]
    },
    {
     "name": "stderr",
     "output_type": "stream",
     "text": [
      "100%|██████████| 13/13 [00:00<00:00, 146.91it/s]\n",
      "100%|██████████| 49/49 [00:00<00:00, 398.97it/s]\n"
     ]
    },
    {
     "name": "stdout",
     "output_type": "stream",
     "text": [
      "Val accuracy: 0.5739795918367347\n",
      "Epoch 811/1000, Loss: 0.0984\n"
     ]
    },
    {
     "name": "stderr",
     "output_type": "stream",
     "text": [
      "100%|██████████| 13/13 [00:00<00:00, 114.54it/s]\n",
      "100%|██████████| 49/49 [00:00<00:00, 281.52it/s]\n"
     ]
    },
    {
     "name": "stdout",
     "output_type": "stream",
     "text": [
      "Val accuracy: 0.5892857142857143\n",
      "Epoch 821/1000, Loss: 0.1014\n"
     ]
    },
    {
     "name": "stderr",
     "output_type": "stream",
     "text": [
      "100%|██████████| 13/13 [00:00<00:00, 158.79it/s]\n",
      "100%|██████████| 49/49 [00:00<00:00, 267.89it/s]\n"
     ]
    },
    {
     "name": "stdout",
     "output_type": "stream",
     "text": [
      "Val accuracy: 0.6147959183673469\n",
      "Epoch 831/1000, Loss: 0.1018\n"
     ]
    },
    {
     "name": "stderr",
     "output_type": "stream",
     "text": [
      "100%|██████████| 13/13 [00:00<00:00, 193.40it/s]\n",
      "100%|██████████| 49/49 [00:00<00:00, 375.60it/s]\n"
     ]
    },
    {
     "name": "stdout",
     "output_type": "stream",
     "text": [
      "Val accuracy: 0.6862244897959183\n",
      "Epoch 841/1000, Loss: 0.0999\n"
     ]
    },
    {
     "name": "stderr",
     "output_type": "stream",
     "text": [
      "100%|██████████| 13/13 [00:00<00:00, 142.70it/s]\n",
      "100%|██████████| 49/49 [00:00<00:00, 293.19it/s]\n"
     ]
    },
    {
     "name": "stdout",
     "output_type": "stream",
     "text": [
      "Val accuracy: 0.6454081632653061\n",
      "Epoch 851/1000, Loss: 0.1044\n"
     ]
    },
    {
     "name": "stderr",
     "output_type": "stream",
     "text": [
      "100%|██████████| 13/13 [00:00<00:00, 142.85it/s]\n",
      "100%|██████████| 49/49 [00:00<00:00, 276.40it/s]\n"
     ]
    },
    {
     "name": "stdout",
     "output_type": "stream",
     "text": [
      "Val accuracy: 0.6581632653061225\n",
      "Epoch 861/1000, Loss: 0.1054\n"
     ]
    },
    {
     "name": "stderr",
     "output_type": "stream",
     "text": [
      "100%|██████████| 13/13 [00:00<00:00, 143.64it/s]\n",
      "100%|██████████| 49/49 [00:00<00:00, 328.31it/s]\n"
     ]
    },
    {
     "name": "stdout",
     "output_type": "stream",
     "text": [
      "Val accuracy: 0.6301020408163265\n",
      "Epoch 871/1000, Loss: 0.1044\n"
     ]
    },
    {
     "name": "stderr",
     "output_type": "stream",
     "text": [
      "100%|██████████| 13/13 [00:00<00:00, 139.31it/s]\n",
      "100%|██████████| 49/49 [00:00<00:00, 265.96it/s]\n"
     ]
    },
    {
     "name": "stdout",
     "output_type": "stream",
     "text": [
      "Val accuracy: 0.6377551020408163\n",
      "Epoch 881/1000, Loss: 0.0907\n"
     ]
    },
    {
     "name": "stderr",
     "output_type": "stream",
     "text": [
      "100%|██████████| 13/13 [00:00<00:00, 139.82it/s]\n",
      "100%|██████████| 49/49 [00:00<00:00, 299.10it/s]\n"
     ]
    },
    {
     "name": "stdout",
     "output_type": "stream",
     "text": [
      "Val accuracy: 0.6709183673469388\n",
      "Epoch 891/1000, Loss: 0.0948\n"
     ]
    },
    {
     "name": "stderr",
     "output_type": "stream",
     "text": [
      "100%|██████████| 13/13 [00:00<00:00, 188.11it/s]\n",
      "100%|██████████| 49/49 [00:00<00:00, 334.73it/s]\n"
     ]
    },
    {
     "name": "stdout",
     "output_type": "stream",
     "text": [
      "Val accuracy: 0.6964285714285714\n",
      "Epoch 901/1000, Loss: 0.0944\n"
     ]
    },
    {
     "name": "stderr",
     "output_type": "stream",
     "text": [
      "100%|██████████| 13/13 [00:00<00:00, 165.67it/s]\n",
      "100%|██████████| 49/49 [00:00<00:00, 285.96it/s]\n"
     ]
    },
    {
     "name": "stdout",
     "output_type": "stream",
     "text": [
      "Val accuracy: 0.6683673469387755\n",
      "Epoch 911/1000, Loss: 0.0898\n"
     ]
    },
    {
     "name": "stderr",
     "output_type": "stream",
     "text": [
      "100%|██████████| 13/13 [00:00<00:00, 144.18it/s]\n",
      "100%|██████████| 49/49 [00:00<00:00, 296.01it/s]\n"
     ]
    },
    {
     "name": "stdout",
     "output_type": "stream",
     "text": [
      "Val accuracy: 0.7831632653061225\n",
      "Epoch 921/1000, Loss: 0.0907\n"
     ]
    },
    {
     "name": "stderr",
     "output_type": "stream",
     "text": [
      "100%|██████████| 13/13 [00:00<00:00, 192.54it/s]\n",
      "100%|██████████| 49/49 [00:00<00:00, 388.09it/s]"
     ]
    },
    {
     "name": "stdout",
     "output_type": "stream",
     "text": [
      "Val accuracy: 0.7678571428571429\n"
     ]
    },
    {
     "name": "stderr",
     "output_type": "stream",
     "text": [
      "\n"
     ]
    },
    {
     "name": "stdout",
     "output_type": "stream",
     "text": [
      "Epoch 931/1000, Loss: 0.0887\n"
     ]
    },
    {
     "name": "stderr",
     "output_type": "stream",
     "text": [
      "100%|██████████| 13/13 [00:00<00:00, 142.53it/s]\n",
      "100%|██████████| 49/49 [00:00<00:00, 279.56it/s]\n"
     ]
    },
    {
     "name": "stdout",
     "output_type": "stream",
     "text": [
      "Val accuracy: 0.7627551020408163\n",
      "Epoch 941/1000, Loss: 0.0878\n"
     ]
    },
    {
     "name": "stderr",
     "output_type": "stream",
     "text": [
      "100%|██████████| 13/13 [00:00<00:00, 181.15it/s]\n",
      "100%|██████████| 49/49 [00:00<00:00, 307.41it/s]\n"
     ]
    },
    {
     "name": "stdout",
     "output_type": "stream",
     "text": [
      "Val accuracy: 0.8137755102040817\n",
      "Epoch 951/1000, Loss: 0.0882\n"
     ]
    },
    {
     "name": "stderr",
     "output_type": "stream",
     "text": [
      "100%|██████████| 13/13 [00:00<00:00, 179.87it/s]\n",
      "100%|██████████| 49/49 [00:00<00:00, 377.54it/s]\n"
     ]
    },
    {
     "name": "stdout",
     "output_type": "stream",
     "text": [
      "Val accuracy: 0.7755102040816326\n",
      "Epoch 961/1000, Loss: 0.0801\n"
     ]
    },
    {
     "name": "stderr",
     "output_type": "stream",
     "text": [
      "100%|██████████| 13/13 [00:00<00:00, 139.55it/s]\n",
      "100%|██████████| 49/49 [00:00<00:00, 244.10it/s]\n"
     ]
    },
    {
     "name": "stdout",
     "output_type": "stream",
     "text": [
      "Val accuracy: 0.8112244897959183\n",
      "Epoch 971/1000, Loss: 0.0926\n"
     ]
    },
    {
     "name": "stderr",
     "output_type": "stream",
     "text": [
      "100%|██████████| 13/13 [00:00<00:00, 157.85it/s]\n",
      "100%|██████████| 49/49 [00:00<00:00, 263.97it/s]\n"
     ]
    },
    {
     "name": "stdout",
     "output_type": "stream",
     "text": [
      "Val accuracy: 0.7295918367346939\n",
      "Epoch 981/1000, Loss: 0.0805\n"
     ]
    },
    {
     "name": "stderr",
     "output_type": "stream",
     "text": [
      "100%|██████████| 13/13 [00:00<00:00, 151.08it/s]\n",
      "100%|██████████| 49/49 [00:00<00:00, 268.21it/s]\n"
     ]
    },
    {
     "name": "stdout",
     "output_type": "stream",
     "text": [
      "Val accuracy: 0.8112244897959183\n",
      "Epoch 991/1000, Loss: 0.0899\n"
     ]
    },
    {
     "name": "stderr",
     "output_type": "stream",
     "text": [
      "100%|██████████| 13/13 [00:00<00:00, 154.83it/s]\n",
      "100%|██████████| 49/49 [00:00<00:00, 259.30it/s]\n"
     ]
    },
    {
     "name": "stdout",
     "output_type": "stream",
     "text": [
      "Val accuracy: 0.8163265306122449\n"
     ]
    }
   ],
   "source": [
    "import torch\n",
    "import torch.nn.functional as F\n",
    "from torch.amp import autocast, GradScaler\n",
    "import torch.optim as optim\n",
    "from tqdm import tqdm\n",
    "import json\n",
    "\n",
    "batch_size = 512\n",
    "\n",
    "train_loader = DataLoader(train_dataset, batch_size=batch_size, shuffle=True)\n",
    "val_loader = DataLoader(val_dataset, batch_size=batch_size, shuffle=False)\n",
    "history = {\"train\": [], \"val\": [], \"best_accuracy\": 0.0}\n",
    "\n",
    "scaler = GradScaler()  # Helps manage fp16 gradients\n",
    "\n",
    "optimizer = optim.Adam(model.parameters(), lr=1e-3)\n",
    "epochs = 1000\n",
    "\n",
    "for epoch in range(epochs):\n",
    "    model.train()\n",
    "    epoch_loss = 0\n",
    "\n",
    "    for x, label in train_loader:\n",
    "        x, label = x.to(device), label.to(device)\n",
    "\n",
    "        optimizer.zero_grad()\n",
    "\n",
    "        with autocast(dtype=torch.float16, device_type=device.type): \n",
    "            embeddings = model(x)\n",
    "            indices_tuple = mining_func(embeddings, label)\n",
    "            loss = loss_func(embeddings, label, indices_tuple)\n",
    "\n",
    "        # Backpropagation with scaled gradients\n",
    "        scaler.scale(loss).backward()\n",
    "        scaler.step(optimizer)\n",
    "        scaler.update()\n",
    "\n",
    "        epoch_loss += loss.item()\n",
    "\n",
    "\n",
    "\n",
    "\n",
    "    if epoch %10 == 0:\n",
    "        # model validation\n",
    "        model.eval()\n",
    "        avg_loss = epoch_loss / len(train_loader)\n",
    "        print(f\"Epoch {epoch+1}/{epochs}, Loss: {avg_loss:.4f}\")\n",
    "        \n",
    "        with torch.no_grad():\n",
    "            # as all embeddings need to be stored in memory\n",
    "            # you can set DEVICE = torch.device('cpu') in case gpu memory overflow occurs\n",
    "            accuracy = get_accuracy(val_dataset, train_dataset, model, device.type)\n",
    "            \n",
    "            history[\"val\"].append({\"epoch\": epoch, \"accuracy\": accuracy})\n",
    "            print(f\"Val accuracy: {accuracy}\")\n",
    "            \n",
    "            # save model\n",
    "            torch.save(model.state_dict(), f\"{SAVE_PATH}/model_latest_{model.encoder_type}.pth\")\n",
    "            \n",
    "            if accuracy >= history[\"best_accuracy\"]:\n",
    "                history[\"best_accuracy\"] = accuracy\n",
    "                torch.save(model.state_dict(), f\"{SAVE_PATH}/model_best_{model.encoder_type}.pth\")\n",
    "\n",
    "with open(f\"history_{model.encoder_type}_{datetime.datetime.now()}.json\", \"w\") as f:\n",
    "    f.write(json.dumps(history))"
   ]
  },
  {
   "cell_type": "code",
   "execution_count": null,
   "id": "7edd19a6",
   "metadata": {},
   "outputs": [
    {
     "ename": "RuntimeError",
     "evalue": "Error(s) in loading state_dict for Encoder:\n\tMissing key(s) in state_dict: \"lstm.weight_ih_l0\", \"lstm.weight_hh_l0\", \"lstm.bias_ih_l0\", \"lstm.bias_hh_l0\", \"lstm.weight_ih_l1\", \"lstm.weight_hh_l1\", \"lstm.bias_ih_l1\", \"lstm.bias_hh_l1\", \"lstm.weight_ih_l2\", \"lstm.weight_hh_l2\", \"lstm.bias_ih_l2\", \"lstm.bias_hh_l2\", \"lstm.weight_ih_l3\", \"lstm.weight_hh_l3\", \"lstm.bias_ih_l3\", \"lstm.bias_hh_l3\", \"lstm.weight_ih_l4\", \"lstm.weight_hh_l4\", \"lstm.bias_ih_l4\", \"lstm.bias_hh_l4\". \n\tUnexpected key(s) in state_dict: \"gru.weight_ih_l0\", \"gru.weight_hh_l0\", \"gru.bias_ih_l0\", \"gru.bias_hh_l0\", \"gru.weight_ih_l1\", \"gru.weight_hh_l1\", \"gru.bias_ih_l1\", \"gru.bias_hh_l1\", \"gru.weight_ih_l2\", \"gru.weight_hh_l2\", \"gru.bias_ih_l2\", \"gru.bias_hh_l2\", \"gru.weight_ih_l3\", \"gru.weight_hh_l3\", \"gru.bias_ih_l3\", \"gru.bias_hh_l3\", \"gru.weight_ih_l4\", \"gru.weight_hh_l4\", \"gru.bias_ih_l4\", \"gru.bias_hh_l4\". ",
     "output_type": "error",
     "traceback": [
      "\u001b[0;31m---------------------------------------------------------------------------\u001b[0m",
      "\u001b[0;31mRuntimeError\u001b[0m                              Traceback (most recent call last)",
      "Cell \u001b[0;32mIn[10], line 1\u001b[0m\n\u001b[0;32m----> 1\u001b[0m \u001b[43mmodel\u001b[49m\u001b[38;5;241;43m.\u001b[39;49m\u001b[43mload_state_dict\u001b[49m\u001b[43m(\u001b[49m\u001b[43mtorch\u001b[49m\u001b[38;5;241;43m.\u001b[39;49m\u001b[43mload\u001b[49m\u001b[43m(\u001b[49m\u001b[38;5;124;43m\"\u001b[39;49m\u001b[38;5;124;43m/home/s/python_progs/DL_homeworks/deep-metric-ts-clustering/notebooks/model/model_GRU_absolute_best.pth\u001b[39;49m\u001b[38;5;124;43m\"\u001b[39;49m\u001b[43m,\u001b[49m\u001b[43m \u001b[49m\u001b[43mmap_location\u001b[49m\u001b[38;5;241;43m=\u001b[39;49m\u001b[43mtorch\u001b[49m\u001b[38;5;241;43m.\u001b[39;49m\u001b[43mdevice\u001b[49m\u001b[43m(\u001b[49m\u001b[38;5;124;43m\"\u001b[39;49m\u001b[38;5;124;43mcuda\u001b[39;49m\u001b[38;5;124;43m\"\u001b[39;49m\u001b[43m)\u001b[49m\u001b[43m)\u001b[49m\u001b[43m)\u001b[49m\n\u001b[1;32m      2\u001b[0m model\u001b[38;5;241m.\u001b[39mto(\u001b[38;5;124m\"\u001b[39m\u001b[38;5;124mcuda\u001b[39m\u001b[38;5;124m\"\u001b[39m)\n\u001b[1;32m      4\u001b[0m model\u001b[38;5;241m.\u001b[39meval()\n",
      "File \u001b[0;32m~/python_progs/DL_homeworks/deep-metric-ts-clustering/env/lib/python3.10/site-packages/torch/nn/modules/module.py:2593\u001b[0m, in \u001b[0;36mModule.load_state_dict\u001b[0;34m(self, state_dict, strict, assign)\u001b[0m\n\u001b[1;32m   2585\u001b[0m         error_msgs\u001b[38;5;241m.\u001b[39minsert(\n\u001b[1;32m   2586\u001b[0m             \u001b[38;5;241m0\u001b[39m,\n\u001b[1;32m   2587\u001b[0m             \u001b[38;5;124m\"\u001b[39m\u001b[38;5;124mMissing key(s) in state_dict: \u001b[39m\u001b[38;5;132;01m{}\u001b[39;00m\u001b[38;5;124m. \u001b[39m\u001b[38;5;124m\"\u001b[39m\u001b[38;5;241m.\u001b[39mformat(\n\u001b[1;32m   2588\u001b[0m                 \u001b[38;5;124m\"\u001b[39m\u001b[38;5;124m, \u001b[39m\u001b[38;5;124m\"\u001b[39m\u001b[38;5;241m.\u001b[39mjoin(\u001b[38;5;124mf\u001b[39m\u001b[38;5;124m'\u001b[39m\u001b[38;5;124m\"\u001b[39m\u001b[38;5;132;01m{\u001b[39;00mk\u001b[38;5;132;01m}\u001b[39;00m\u001b[38;5;124m\"\u001b[39m\u001b[38;5;124m'\u001b[39m \u001b[38;5;28;01mfor\u001b[39;00m k \u001b[38;5;129;01min\u001b[39;00m missing_keys)\n\u001b[1;32m   2589\u001b[0m             ),\n\u001b[1;32m   2590\u001b[0m         )\n\u001b[1;32m   2592\u001b[0m \u001b[38;5;28;01mif\u001b[39;00m \u001b[38;5;28mlen\u001b[39m(error_msgs) \u001b[38;5;241m>\u001b[39m \u001b[38;5;241m0\u001b[39m:\n\u001b[0;32m-> 2593\u001b[0m     \u001b[38;5;28;01mraise\u001b[39;00m \u001b[38;5;167;01mRuntimeError\u001b[39;00m(\n\u001b[1;32m   2594\u001b[0m         \u001b[38;5;124m\"\u001b[39m\u001b[38;5;124mError(s) in loading state_dict for \u001b[39m\u001b[38;5;132;01m{}\u001b[39;00m\u001b[38;5;124m:\u001b[39m\u001b[38;5;130;01m\\n\u001b[39;00m\u001b[38;5;130;01m\\t\u001b[39;00m\u001b[38;5;132;01m{}\u001b[39;00m\u001b[38;5;124m\"\u001b[39m\u001b[38;5;241m.\u001b[39mformat(\n\u001b[1;32m   2595\u001b[0m             \u001b[38;5;28mself\u001b[39m\u001b[38;5;241m.\u001b[39m\u001b[38;5;18m__class__\u001b[39m\u001b[38;5;241m.\u001b[39m\u001b[38;5;18m__name__\u001b[39m, \u001b[38;5;124m\"\u001b[39m\u001b[38;5;130;01m\\n\u001b[39;00m\u001b[38;5;130;01m\\t\u001b[39;00m\u001b[38;5;124m\"\u001b[39m\u001b[38;5;241m.\u001b[39mjoin(error_msgs)\n\u001b[1;32m   2596\u001b[0m         )\n\u001b[1;32m   2597\u001b[0m     )\n\u001b[1;32m   2598\u001b[0m \u001b[38;5;28;01mreturn\u001b[39;00m _IncompatibleKeys(missing_keys, unexpected_keys)\n",
      "\u001b[0;31mRuntimeError\u001b[0m: Error(s) in loading state_dict for Encoder:\n\tMissing key(s) in state_dict: \"lstm.weight_ih_l0\", \"lstm.weight_hh_l0\", \"lstm.bias_ih_l0\", \"lstm.bias_hh_l0\", \"lstm.weight_ih_l1\", \"lstm.weight_hh_l1\", \"lstm.bias_ih_l1\", \"lstm.bias_hh_l1\", \"lstm.weight_ih_l2\", \"lstm.weight_hh_l2\", \"lstm.bias_ih_l2\", \"lstm.bias_hh_l2\", \"lstm.weight_ih_l3\", \"lstm.weight_hh_l3\", \"lstm.bias_ih_l3\", \"lstm.bias_hh_l3\", \"lstm.weight_ih_l4\", \"lstm.weight_hh_l4\", \"lstm.bias_ih_l4\", \"lstm.bias_hh_l4\". \n\tUnexpected key(s) in state_dict: \"gru.weight_ih_l0\", \"gru.weight_hh_l0\", \"gru.bias_ih_l0\", \"gru.bias_hh_l0\", \"gru.weight_ih_l1\", \"gru.weight_hh_l1\", \"gru.bias_ih_l1\", \"gru.bias_hh_l1\", \"gru.weight_ih_l2\", \"gru.weight_hh_l2\", \"gru.bias_ih_l2\", \"gru.bias_hh_l2\", \"gru.weight_ih_l3\", \"gru.weight_hh_l3\", \"gru.bias_ih_l3\", \"gru.bias_hh_l3\", \"gru.weight_ih_l4\", \"gru.weight_hh_l4\", \"gru.bias_ih_l4\", \"gru.bias_hh_l4\". "
     ]
    }
   ],
   "source": [
    "model.load_state_dict(torch.load(\"/home/s/python_progs/DL_homeworks/deep-metric-ts-clustering/notebooks/model/model_GRU_absolute_best.pth\", map_location=torch.device(\"cuda\")))\n",
    "model.to(\"cuda\")\n",
    "\n",
    "model.eval()\n",
    "\n",
    "with torch.no_grad():\n",
    "    # as all embeddings need to be stored in memory\n",
    "    # you can set DEVICE = torch.device('cpu') in case gpu memory overflow occurs\n",
    "    accuracy = get_accuracy(val_dataset, train_dataset, model, device.type)\n",
    "    \n",
    "    print(f\"Val accuracy: {accuracy}\")"
   ]
  },
  {
   "cell_type": "code",
   "execution_count": null,
   "id": "279244ff",
   "metadata": {},
   "outputs": [
    {
     "name": "stdout",
     "output_type": "stream",
     "text": [
      "2025-05-27 22:01:46.628948\n"
     ]
    }
   ],
   "source": []
  },
  {
   "cell_type": "code",
   "execution_count": null,
   "id": "5b4ab6a0",
   "metadata": {},
   "outputs": [],
   "source": []
  }
 ],
 "metadata": {
  "kernelspec": {
   "display_name": "env",
   "language": "python",
   "name": "python3"
  },
  "language_info": {
   "codemirror_mode": {
    "name": "ipython",
    "version": 3
   },
   "file_extension": ".py",
   "mimetype": "text/x-python",
   "name": "python",
   "nbconvert_exporter": "python",
   "pygments_lexer": "ipython3",
   "version": "3.10.12"
  }
 },
 "nbformat": 4,
 "nbformat_minor": 5
}
