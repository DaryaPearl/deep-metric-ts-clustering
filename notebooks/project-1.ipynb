{
 "cells": [
  {
   "cell_type": "code",
   "execution_count": 1,
   "id": "988dfdce",
   "metadata": {},
   "outputs": [],
   "source": [
    "import yfinance as yf\n",
    "import pandas as pd\n",
    "import numpy as np\n",
    "import random\n",
    "import torch\n",
    "\n",
    "import sys\n",
    "sys.path.append('../src/utils') \n",
    "from common import get_accuracy\n",
    "device = torch.device(\"cuda\" if torch.cuda.is_available() else \"cpu\")\n",
    "\n",
    "SAVE_PATH = \"/home/s/python_progs/DL_homeworks/deep-metric-ts-clustering/notebooks/model\""
   ]
  },
  {
   "cell_type": "code",
   "execution_count": 2,
   "id": "fbea2dc6",
   "metadata": {},
   "outputs": [
    {
     "name": "stdout",
     "output_type": "stream",
     "text": [
      "YF.download() has changed argument auto_adjust default to True\n"
     ]
    },
    {
     "name": "stderr",
     "output_type": "stream",
     "text": [
      "[*********************100%***********************]  10 of 10 completed"
     ]
    },
    {
     "name": "stdout",
     "output_type": "stream",
     "text": [
      "Ticker            AAPL        AMZN       GOOGL         JNJ         JPM  \\\n",
      "Date                                                                     \n",
      "2020-01-02   72.620834   94.900497   68.108376  126.055138  120.733566   \n",
      "2020-01-03   71.914810   93.748497   67.752075  124.595726  119.140312   \n",
      "2020-01-06   72.487854   95.143997   69.557945  124.440300  119.045601   \n",
      "2020-01-07   72.146927   95.343002   69.423592  125.200226  117.021736   \n",
      "2020-01-08   73.307503   94.598503   69.917725  125.182991  117.934631   \n",
      "...                ...         ...         ...         ...         ...   \n",
      "2023-12-22  192.192551  153.419998  140.816757  149.492691  161.660004   \n",
      "2023-12-26  191.646561  153.410004  140.846634  150.146591  162.616074   \n",
      "2023-12-27  191.745819  153.339996  139.702087  150.348541  163.591431   \n",
      "2023-12-28  192.172699  153.380005  139.562759  150.569702  164.460587   \n",
      "2023-12-29  191.130310  151.940002  139.025330  150.723557  164.267441   \n",
      "\n",
      "Ticker            MSFT       NVDA        TSLA        WMT        XOM  \n",
      "Date                                                                 \n",
      "2020-01-02  153.042297   5.972160   28.684000  36.593365  54.634789  \n",
      "2020-01-03  151.136627   5.876571   29.534000  36.270325  54.195545  \n",
      "2020-01-06  151.527344   5.901215   30.102667  36.196487  54.611671  \n",
      "2020-01-07  150.145721   5.972659   31.270666  35.861130  54.164719  \n",
      "2020-01-08  152.537262   5.983862   32.809334  35.738064  53.347904  \n",
      "...                ...        ...         ...        ...        ...  \n",
      "2023-12-22  370.375732  48.811672  252.539993  51.332783  96.783318  \n",
      "2023-12-26  370.454834  49.260498  256.609985  51.254139  97.001747  \n",
      "2023-12-27  369.871490  49.398449  261.440002  51.735844  96.545883  \n",
      "2023-12-28  371.067902  49.503410  253.179993  51.634258  95.149849  \n",
      "2023-12-29  371.819397  49.503410  248.479996  51.660473  94.950401  \n",
      "\n",
      "[1006 rows x 10 columns]\n"
     ]
    },
    {
     "name": "stderr",
     "output_type": "stream",
     "text": [
      "\n"
     ]
    }
   ],
   "source": [
    "# Select diverse stocks from different sectors\n",
    "tickers = ['AAPL', 'MSFT', 'GOOGL', 'TSLA', 'AMZN', 'JPM', 'JNJ', 'XOM', 'NVDA', 'WMT']\n",
    "ticker_to_class = {ticker: i for i, ticker in enumerate(tickers)}\n",
    "\n",
    "data = yf.download(tickers, start=\"2020-01-01\", end=\"2024-01-01\")['Close']\n",
    "data.dropna(inplace=True)\n",
    "print(data)"
   ]
  },
  {
   "cell_type": "code",
   "execution_count": 3,
   "id": "820db7b6",
   "metadata": {},
   "outputs": [],
   "source": [
    "def create_windows(series, window_size=30, step=1):\n",
    "    windows = []\n",
    "    for i in range(0, len(series) - window_size + 1, step):\n",
    "        window = series[i:i + window_size].values\n",
    "        windows.append(window)\n",
    "    return windows\n",
    "\n",
    "\n",
    "def create_dataset(windows):\n",
    "    dataset = []\n",
    "    for window in windows:\n",
    "\n",
    "        dataset.append((window['window'], ticker_to_class[window['ticker']]))\n",
    "\n",
    "    return dataset\n"
   ]
  },
  {
   "cell_type": "code",
   "execution_count": 4,
   "id": "d22e2748",
   "metadata": {},
   "outputs": [
    {
     "name": "stdout",
     "output_type": "stream",
     "text": [
      "{'ticker': 'AAPL', 'window': array([72.62083435, 71.91481018, 72.487854  , 72.14692688, 73.30750275,\n",
      "       74.86463928, 75.03386688, 76.63692474, 75.6020813 , 75.27806091,\n",
      "       76.22105408, 77.06490326, 76.5426178 , 76.81585693, 77.18579865,\n",
      "       76.96334839, 74.70020294, 76.81342316, 78.42131042, 78.30766296,\n",
      "       74.83559418, 74.63008881, 77.09391022, 77.72254181, 78.63166046,\n",
      "       77.56287384, 77.93125153, 77.46105194, 79.30059052, 78.73588562])}\n"
     ]
    }
   ],
   "source": [
    "window_size = 30\n",
    "step = 5  # reduces overlap between samples\n",
    "stock_windows = []  # Dictionary of ticker → list of windows\n",
    "\n",
    "for ticker in tickers:\n",
    "    for window in create_windows(data[ticker], window_size, step):\n",
    "        stock_windows.append({\n",
    "                'ticker': ticker,\n",
    "                'window': window\n",
    "            })\n",
    "print(stock_windows[0])"
   ]
  },
  {
   "cell_type": "code",
   "execution_count": 5,
   "id": "3642ce19",
   "metadata": {},
   "outputs": [],
   "source": [
    "dataset = create_dataset(stock_windows)"
   ]
  },
  {
   "cell_type": "code",
   "execution_count": 6,
   "id": "aaf30ea3",
   "metadata": {},
   "outputs": [],
   "source": [
    "import torch\n",
    "from torch.utils.data import Dataset\n",
    "from torch.utils.data import random_split\n",
    "\n",
    "class StockDataset(Dataset):\n",
    "    def __init__(self, stock_windows):\n",
    "        self.stock_windows = stock_windows\n",
    "        self.labels = [label for _, label in stock_windows]  # Extract and store labels\n",
    "\n",
    "    def __len__(self):\n",
    "        return len(self.stock_windows)\n",
    "\n",
    "    def __getitem__(self, idx):\n",
    "        x, label = self.stock_windows[idx]\n",
    "        x = torch.tensor(x, dtype=torch.float32).unsqueeze(0)  # shape [1, 30]\n",
    "        label = torch.tensor(label, dtype=torch.float32)\n",
    "        return x, label\n",
    "\n",
    "dataset = StockDataset(dataset)\n",
    "\n",
    "\n",
    "train_ratio = 0.8\n",
    "train_size = int(train_ratio * len(dataset))\n",
    "val_size = len(dataset) - train_size\n",
    "\n",
    "\n",
    "train_dataset, val_dataset = random_split(dataset, [train_size, val_size])\n",
    "\n"
   ]
  },
  {
   "cell_type": "code",
   "execution_count": 7,
   "id": "0a8c7066",
   "metadata": {},
   "outputs": [],
   "source": [
    "import torch.nn as nn\n",
    "\n",
    "\n",
    "class Encoder(nn.Module):\n",
    "    def __init__(self, input_dim, encoder_type, embedding_dim=128):\n",
    "        super().__init__()\n",
    "\n",
    "        self.encoder_type = encoder_type\n",
    "        self.embedding_dim = embedding_dim\n",
    "\n",
    "\n",
    "        if encoder_type==\"CNN\":\n",
    "            self.conv_layers = nn.Sequential(\n",
    "            nn.Conv1d(in_channels=1, out_channels=16, kernel_size=5, padding=2),\n",
    "            nn.ReLU(),\n",
    "            nn.MaxPool1d(2),\n",
    "            nn.Conv1d(16, 32, 5, padding=2),\n",
    "            nn.ReLU(),\n",
    "            nn.MaxPool1d(2),\n",
    "            )\n",
    "            # Calculate final output size after conv and pooling layers based on input length\n",
    "            self.fc = nn.Linear(32 * (input_dim // 4), embedding_dim)\n",
    "\n",
    "\n",
    "        if encoder_type==\"GRU\":\n",
    "            self.num_layers = 5\n",
    "            self.hidden_size = 256\n",
    "            self.gru = nn.GRU(1, self.hidden_size, self.num_layers, batch_first=True)\n",
    "            self.fc = nn.Linear(self.hidden_size, self.embedding_dim)\n",
    "\n",
    "        if encoder_type==\"LSTM\":    \n",
    "            self.num_layers = 2\n",
    "            self.hidden_size = 256\n",
    "            self.lstm = nn.LSTM(1, self.hidden_size, self.num_layers, batch_first=True)\n",
    "            self.fc = nn.Linear(self.hidden_size, self.embedding_dim)\n",
    "\n",
    "    def forward(self, x):\n",
    "        if self.encoder_type==\"CNN\":\n",
    "            # x = x.unsqueeze(1)  # add channel dim: (batch_size, 1, seq_len)\n",
    "            x = self.conv_layers(x)\n",
    "            x = x.view(x.size(0), -1)  # flatten\n",
    "            x = self.fc(x)\n",
    "        \n",
    "        if self.encoder_type==\"GRU\":\n",
    "            x = x.reshape(-1, window_size, 1)\n",
    "\n",
    "            h0 = torch.zeros(self.num_layers, x.size(0), self.hidden_size).to(device)\n",
    "\n",
    "            x, _ = self.gru(x, h0)\n",
    "            x = x[:, -1, :]\n",
    "            x = self.fc(x)\n",
    "\n",
    "        if self.encoder_type==\"LSTM\":\n",
    "            x = x.reshape(-1, window_size, 1)\n",
    "\n",
    "            h0 = torch.zeros(self.num_layers, x.size(0), self.hidden_size).to(device)\n",
    "            c0 = torch.zeros(self.num_layers, x.size(0), self.hidden_size).to(device)\n",
    "\n",
    "\n",
    "            x, _ = self.lstm(x, (h0,c0))\n",
    "            x = x[:, -1, :]\n",
    "            x = self.fc(x)\n",
    "\n",
    "\n",
    "        return x\n",
    "\n",
    "\n"
   ]
  },
  {
   "cell_type": "code",
   "execution_count": 8,
   "id": "b0f34dd2",
   "metadata": {},
   "outputs": [
    {
     "data": {
      "text/plain": [
       "Encoder(\n",
       "  (gru): GRU(1, 256, num_layers=5, batch_first=True)\n",
       "  (fc): Linear(in_features=256, out_features=128, bias=True)\n",
       ")"
      ]
     },
     "execution_count": 8,
     "metadata": {},
     "output_type": "execute_result"
    }
   ],
   "source": [
    "\n",
    "from torch.utils.data import DataLoader\n",
    "from pytorch_metric_learning import distances, losses, miners, reducers, testers\n",
    "from pytorch_metric_learning.utils.accuracy_calculator import AccuracyCalculator\n",
    "\n",
    "distance = distances.CosineSimilarity()\n",
    "reducer = reducers.ThresholdReducer(low=0)\n",
    "mining_func = miners.TripletMarginMiner(margin=0.2, distance=distance, type_of_triplets=\"semihard\")\n",
    "loss_func = losses.TripletMarginLoss(margin=0.2, distance=distance, reducer=reducer)\n",
    "\n",
    "# model = Encoder(window_size, 'CNN')\n",
    "# model = Encoder(window_size, 'LSTM')\n",
    "model = Encoder(window_size, 'GRU')\n",
    "# model = Encoder(window_size, 'TRANSFORMER')\n",
    "\n",
    "model.to(device)"
   ]
  },
  {
   "cell_type": "code",
   "execution_count": 10,
   "id": "08a928ce",
   "metadata": {},
   "outputs": [
    {
     "name": "stdout",
     "output_type": "stream",
     "text": [
      "Epoch 1/1000, Loss: 0.0956\n"
     ]
    },
    {
     "name": "stderr",
     "output_type": "stream",
     "text": [
      "100%|██████████| 13/13 [00:00<00:00, 120.48it/s]\n",
      "100%|██████████| 49/49 [00:00<00:00, 290.14it/s]\n"
     ]
    },
    {
     "name": "stdout",
     "output_type": "stream",
     "text": [
      "Val accuracy: 0.6632653061224489\n",
      "Epoch 11/1000, Loss: 0.0844\n"
     ]
    },
    {
     "name": "stderr",
     "output_type": "stream",
     "text": [
      "100%|██████████| 13/13 [00:00<00:00, 145.20it/s]\n",
      "100%|██████████| 49/49 [00:00<00:00, 235.16it/s]\n"
     ]
    },
    {
     "name": "stdout",
     "output_type": "stream",
     "text": [
      "Val accuracy: 0.8341836734693877\n",
      "Epoch 21/1000, Loss: 0.0945\n"
     ]
    },
    {
     "name": "stderr",
     "output_type": "stream",
     "text": [
      "100%|██████████| 13/13 [00:00<00:00, 136.08it/s]\n",
      "100%|██████████| 49/49 [00:00<00:00, 319.65it/s]\n"
     ]
    },
    {
     "name": "stdout",
     "output_type": "stream",
     "text": [
      "Val accuracy: 0.826530612244898\n",
      "Epoch 31/1000, Loss: 0.0772\n"
     ]
    },
    {
     "name": "stderr",
     "output_type": "stream",
     "text": [
      "100%|██████████| 13/13 [00:00<00:00, 144.11it/s]\n",
      "100%|██████████| 49/49 [00:00<00:00, 354.84it/s]\n"
     ]
    },
    {
     "name": "stdout",
     "output_type": "stream",
     "text": [
      "Val accuracy: 0.8494897959183674\n",
      "Epoch 41/1000, Loss: 0.0789\n"
     ]
    },
    {
     "name": "stderr",
     "output_type": "stream",
     "text": [
      "100%|██████████| 13/13 [00:00<00:00, 175.10it/s]\n",
      "100%|██████████| 49/49 [00:00<00:00, 280.49it/s]\n"
     ]
    },
    {
     "name": "stdout",
     "output_type": "stream",
     "text": [
      "Val accuracy: 0.8698979591836735\n",
      "Epoch 51/1000, Loss: 0.0664\n"
     ]
    },
    {
     "name": "stderr",
     "output_type": "stream",
     "text": [
      "100%|██████████| 13/13 [00:00<00:00, 113.35it/s]\n",
      "100%|██████████| 49/49 [00:00<00:00, 307.10it/s]\n"
     ]
    },
    {
     "name": "stdout",
     "output_type": "stream",
     "text": [
      "Val accuracy: 0.8443877551020408\n",
      "Epoch 61/1000, Loss: 0.0555\n"
     ]
    },
    {
     "name": "stderr",
     "output_type": "stream",
     "text": [
      "100%|██████████| 13/13 [00:00<00:00, 120.93it/s]\n",
      "100%|██████████| 49/49 [00:00<00:00, 282.21it/s]\n"
     ]
    },
    {
     "name": "stdout",
     "output_type": "stream",
     "text": [
      "Val accuracy: 0.875\n",
      "Epoch 71/1000, Loss: 0.0812\n"
     ]
    },
    {
     "name": "stderr",
     "output_type": "stream",
     "text": [
      "100%|██████████| 13/13 [00:00<00:00, 125.97it/s]\n",
      "100%|██████████| 49/49 [00:00<00:00, 352.53it/s]\n"
     ]
    },
    {
     "name": "stdout",
     "output_type": "stream",
     "text": [
      "Val accuracy: 0.8392857142857143\n",
      "Epoch 81/1000, Loss: 0.0716\n"
     ]
    },
    {
     "name": "stderr",
     "output_type": "stream",
     "text": [
      "100%|██████████| 13/13 [00:00<00:00, 127.84it/s]\n",
      "100%|██████████| 49/49 [00:00<00:00, 294.96it/s]\n"
     ]
    },
    {
     "name": "stdout",
     "output_type": "stream",
     "text": [
      "Val accuracy: 0.8571428571428571\n",
      "Epoch 91/1000, Loss: 0.0572\n"
     ]
    },
    {
     "name": "stderr",
     "output_type": "stream",
     "text": [
      "100%|██████████| 13/13 [00:00<00:00, 164.29it/s]\n",
      "100%|██████████| 49/49 [00:00<00:00, 342.90it/s]\n"
     ]
    },
    {
     "name": "stdout",
     "output_type": "stream",
     "text": [
      "Val accuracy: 0.8698979591836735\n",
      "Epoch 101/1000, Loss: 0.0533\n"
     ]
    },
    {
     "name": "stderr",
     "output_type": "stream",
     "text": [
      "100%|██████████| 13/13 [00:00<00:00, 177.19it/s]\n",
      "100%|██████████| 49/49 [00:00<00:00, 243.43it/s]\n"
     ]
    },
    {
     "name": "stdout",
     "output_type": "stream",
     "text": [
      "Val accuracy: 0.8494897959183674\n",
      "Epoch 111/1000, Loss: 0.0523\n"
     ]
    },
    {
     "name": "stderr",
     "output_type": "stream",
     "text": [
      "100%|██████████| 13/13 [00:00<00:00, 121.70it/s]\n",
      "100%|██████████| 49/49 [00:00<00:00, 380.15it/s]\n"
     ]
    },
    {
     "name": "stdout",
     "output_type": "stream",
     "text": [
      "Val accuracy: 0.8596938775510204\n",
      "Epoch 121/1000, Loss: 0.0734\n"
     ]
    },
    {
     "name": "stderr",
     "output_type": "stream",
     "text": [
      "100%|██████████| 13/13 [00:00<00:00, 121.90it/s]\n",
      "100%|██████████| 49/49 [00:00<00:00, 297.59it/s]\n"
     ]
    },
    {
     "name": "stdout",
     "output_type": "stream",
     "text": [
      "Val accuracy: 0.8469387755102041\n",
      "Epoch 131/1000, Loss: 0.0874\n"
     ]
    },
    {
     "name": "stderr",
     "output_type": "stream",
     "text": [
      "100%|██████████| 13/13 [00:00<00:00, 128.47it/s]\n",
      "100%|██████████| 49/49 [00:00<00:00, 277.04it/s]\n"
     ]
    },
    {
     "name": "stdout",
     "output_type": "stream",
     "text": [
      "Val accuracy: 0.8545918367346939\n",
      "Epoch 141/1000, Loss: 0.0872\n"
     ]
    },
    {
     "name": "stderr",
     "output_type": "stream",
     "text": [
      "100%|██████████| 13/13 [00:00<00:00, 165.02it/s]\n",
      "100%|██████████| 49/49 [00:00<00:00, 286.03it/s]\n"
     ]
    },
    {
     "name": "stdout",
     "output_type": "stream",
     "text": [
      "Val accuracy: 0.875\n",
      "Epoch 151/1000, Loss: 0.0780\n"
     ]
    },
    {
     "name": "stderr",
     "output_type": "stream",
     "text": [
      "100%|██████████| 13/13 [00:00<00:00, 136.77it/s]\n",
      "100%|██████████| 49/49 [00:00<00:00, 351.13it/s]\n"
     ]
    },
    {
     "name": "stdout",
     "output_type": "stream",
     "text": [
      "Val accuracy: 0.8698979591836735\n",
      "Epoch 161/1000, Loss: 0.0504\n"
     ]
    },
    {
     "name": "stderr",
     "output_type": "stream",
     "text": [
      "100%|██████████| 13/13 [00:00<00:00, 134.48it/s]\n",
      "100%|██████████| 49/49 [00:00<00:00, 311.41it/s]\n"
     ]
    },
    {
     "name": "stdout",
     "output_type": "stream",
     "text": [
      "Val accuracy: 0.8596938775510204\n",
      "Epoch 171/1000, Loss: 0.0589\n"
     ]
    },
    {
     "name": "stderr",
     "output_type": "stream",
     "text": [
      "100%|██████████| 13/13 [00:00<00:00, 127.72it/s]\n",
      "100%|██████████| 49/49 [00:00<00:00, 300.05it/s]\n"
     ]
    },
    {
     "name": "stdout",
     "output_type": "stream",
     "text": [
      "Val accuracy: 0.8698979591836735\n",
      "Epoch 181/1000, Loss: 0.0496\n"
     ]
    },
    {
     "name": "stderr",
     "output_type": "stream",
     "text": [
      "100%|██████████| 13/13 [00:00<00:00, 117.89it/s]\n",
      "100%|██████████| 49/49 [00:00<00:00, 294.34it/s]\n"
     ]
    },
    {
     "name": "stdout",
     "output_type": "stream",
     "text": [
      "Val accuracy: 0.8494897959183674\n",
      "Epoch 191/1000, Loss: 0.0364\n"
     ]
    },
    {
     "name": "stderr",
     "output_type": "stream",
     "text": [
      "100%|██████████| 13/13 [00:00<00:00, 130.39it/s]\n",
      "100%|██████████| 49/49 [00:00<00:00, 295.75it/s]\n"
     ]
    },
    {
     "name": "stdout",
     "output_type": "stream",
     "text": [
      "Val accuracy: 0.8367346938775511\n",
      "Epoch 201/1000, Loss: 0.0491\n"
     ]
    },
    {
     "name": "stderr",
     "output_type": "stream",
     "text": [
      "100%|██████████| 13/13 [00:00<00:00, 169.79it/s]\n",
      "100%|██████████| 49/49 [00:00<00:00, 239.94it/s]\n"
     ]
    },
    {
     "name": "stdout",
     "output_type": "stream",
     "text": [
      "Val accuracy: 0.8673469387755102\n",
      "Epoch 211/1000, Loss: 0.0817\n"
     ]
    },
    {
     "name": "stderr",
     "output_type": "stream",
     "text": [
      "100%|██████████| 13/13 [00:00<00:00, 127.92it/s]\n",
      "100%|██████████| 49/49 [00:00<00:00, 372.05it/s]\n"
     ]
    },
    {
     "name": "stdout",
     "output_type": "stream",
     "text": [
      "Val accuracy: 0.798469387755102\n",
      "Epoch 221/1000, Loss: 0.0569\n"
     ]
    },
    {
     "name": "stderr",
     "output_type": "stream",
     "text": [
      "100%|██████████| 13/13 [00:00<00:00, 161.12it/s]\n",
      "100%|██████████| 49/49 [00:00<00:00, 265.84it/s]\n"
     ]
    },
    {
     "name": "stdout",
     "output_type": "stream",
     "text": [
      "Val accuracy: 0.8571428571428571\n",
      "Epoch 231/1000, Loss: 0.0619\n"
     ]
    },
    {
     "name": "stderr",
     "output_type": "stream",
     "text": [
      "100%|██████████| 13/13 [00:00<00:00, 170.26it/s]\n",
      "100%|██████████| 49/49 [00:00<00:00, 422.83it/s]"
     ]
    },
    {
     "name": "stdout",
     "output_type": "stream",
     "text": [
      "Val accuracy: 0.8877551020408163\n"
     ]
    },
    {
     "name": "stderr",
     "output_type": "stream",
     "text": [
      "\n"
     ]
    },
    {
     "name": "stdout",
     "output_type": "stream",
     "text": [
      "Epoch 241/1000, Loss: 0.0729\n"
     ]
    },
    {
     "name": "stderr",
     "output_type": "stream",
     "text": [
      "100%|██████████| 13/13 [00:00<00:00, 132.55it/s]\n",
      "100%|██████████| 49/49 [00:00<00:00, 397.46it/s]\n"
     ]
    },
    {
     "name": "stdout",
     "output_type": "stream",
     "text": [
      "Val accuracy: 0.826530612244898\n",
      "Epoch 251/1000, Loss: 0.0925\n"
     ]
    },
    {
     "name": "stderr",
     "output_type": "stream",
     "text": [
      "100%|██████████| 13/13 [00:00<00:00, 136.23it/s]\n",
      "100%|██████████| 49/49 [00:00<00:00, 325.65it/s]\n"
     ]
    },
    {
     "name": "stdout",
     "output_type": "stream",
     "text": [
      "Val accuracy: 0.8316326530612245\n",
      "Epoch 261/1000, Loss: 0.0648\n"
     ]
    },
    {
     "name": "stderr",
     "output_type": "stream",
     "text": [
      "100%|██████████| 13/13 [00:00<00:00, 128.54it/s]\n",
      "100%|██████████| 49/49 [00:00<00:00, 226.18it/s]\n"
     ]
    },
    {
     "name": "stdout",
     "output_type": "stream",
     "text": [
      "Val accuracy: 0.8647959183673469\n",
      "Epoch 271/1000, Loss: 0.0677\n"
     ]
    },
    {
     "name": "stderr",
     "output_type": "stream",
     "text": [
      "100%|██████████| 13/13 [00:00<00:00, 117.34it/s]\n",
      "100%|██████████| 49/49 [00:00<00:00, 286.50it/s]\n"
     ]
    },
    {
     "name": "stdout",
     "output_type": "stream",
     "text": [
      "Val accuracy: 0.8392857142857143\n",
      "Epoch 281/1000, Loss: 0.0546\n"
     ]
    },
    {
     "name": "stderr",
     "output_type": "stream",
     "text": [
      "100%|██████████| 13/13 [00:00<00:00, 146.70it/s]\n",
      "100%|██████████| 49/49 [00:00<00:00, 286.58it/s]\n"
     ]
    },
    {
     "name": "stdout",
     "output_type": "stream",
     "text": [
      "Val accuracy: 0.8494897959183674\n",
      "Epoch 291/1000, Loss: 0.0973\n"
     ]
    },
    {
     "name": "stderr",
     "output_type": "stream",
     "text": [
      "100%|██████████| 13/13 [00:00<00:00, 136.59it/s]\n",
      "100%|██████████| 49/49 [00:00<00:00, 272.12it/s]\n"
     ]
    },
    {
     "name": "stdout",
     "output_type": "stream",
     "text": [
      "Val accuracy: 0.8163265306122449\n",
      "Epoch 301/1000, Loss: 0.0594\n"
     ]
    },
    {
     "name": "stderr",
     "output_type": "stream",
     "text": [
      "100%|██████████| 13/13 [00:00<00:00, 131.28it/s]\n",
      "100%|██████████| 49/49 [00:00<00:00, 291.54it/s]\n"
     ]
    },
    {
     "name": "stdout",
     "output_type": "stream",
     "text": [
      "Val accuracy: 0.8852040816326531\n",
      "Epoch 311/1000, Loss: 0.0578\n"
     ]
    },
    {
     "name": "stderr",
     "output_type": "stream",
     "text": [
      "100%|██████████| 13/13 [00:00<00:00, 148.54it/s]\n",
      "100%|██████████| 49/49 [00:00<00:00, 314.77it/s]\n"
     ]
    },
    {
     "name": "stdout",
     "output_type": "stream",
     "text": [
      "Val accuracy: 0.8545918367346939\n",
      "Epoch 321/1000, Loss: 0.0604\n"
     ]
    },
    {
     "name": "stderr",
     "output_type": "stream",
     "text": [
      "100%|██████████| 13/13 [00:00<00:00, 138.99it/s]\n",
      "100%|██████████| 49/49 [00:00<00:00, 310.71it/s]\n"
     ]
    },
    {
     "name": "stdout",
     "output_type": "stream",
     "text": [
      "Val accuracy: 0.8520408163265306\n",
      "Epoch 331/1000, Loss: 0.0697\n"
     ]
    },
    {
     "name": "stderr",
     "output_type": "stream",
     "text": [
      "100%|██████████| 13/13 [00:00<00:00, 145.72it/s]\n",
      "100%|██████████| 49/49 [00:00<00:00, 395.42it/s]\n"
     ]
    },
    {
     "name": "stdout",
     "output_type": "stream",
     "text": [
      "Val accuracy: 0.8622448979591837\n",
      "Epoch 341/1000, Loss: 0.0369\n"
     ]
    },
    {
     "name": "stderr",
     "output_type": "stream",
     "text": [
      "100%|██████████| 13/13 [00:00<00:00, 161.15it/s]\n",
      "100%|██████████| 49/49 [00:00<00:00, 292.24it/s]\n"
     ]
    },
    {
     "name": "stdout",
     "output_type": "stream",
     "text": [
      "Val accuracy: 0.875\n",
      "Epoch 351/1000, Loss: 0.0737\n"
     ]
    },
    {
     "name": "stderr",
     "output_type": "stream",
     "text": [
      "100%|██████████| 13/13 [00:00<00:00, 125.88it/s]\n",
      "100%|██████████| 49/49 [00:00<00:00, 340.22it/s]\n"
     ]
    },
    {
     "name": "stdout",
     "output_type": "stream",
     "text": [
      "Val accuracy: 0.8775510204081632\n",
      "Epoch 361/1000, Loss: 0.0398\n"
     ]
    },
    {
     "name": "stderr",
     "output_type": "stream",
     "text": [
      "100%|██████████| 13/13 [00:00<00:00, 162.61it/s]\n",
      "100%|██████████| 49/49 [00:00<00:00, 316.59it/s]\n"
     ]
    },
    {
     "name": "stdout",
     "output_type": "stream",
     "text": [
      "Val accuracy: 0.8826530612244898\n",
      "Epoch 371/1000, Loss: 0.0498\n"
     ]
    },
    {
     "name": "stderr",
     "output_type": "stream",
     "text": [
      "100%|██████████| 13/13 [00:00<00:00, 104.11it/s]\n",
      "100%|██████████| 49/49 [00:00<00:00, 286.69it/s]\n"
     ]
    },
    {
     "name": "stdout",
     "output_type": "stream",
     "text": [
      "Val accuracy: 0.8571428571428571\n",
      "Epoch 381/1000, Loss: 0.0468\n"
     ]
    },
    {
     "name": "stderr",
     "output_type": "stream",
     "text": [
      "100%|██████████| 13/13 [00:00<00:00, 138.67it/s]\n",
      "100%|██████████| 49/49 [00:00<00:00, 349.78it/s]\n"
     ]
    },
    {
     "name": "stdout",
     "output_type": "stream",
     "text": [
      "Val accuracy: 0.8877551020408163\n",
      "Epoch 391/1000, Loss: 0.0558\n"
     ]
    },
    {
     "name": "stderr",
     "output_type": "stream",
     "text": [
      "100%|██████████| 13/13 [00:00<00:00, 136.11it/s]\n",
      "100%|██████████| 49/49 [00:00<00:00, 424.69it/s]\n"
     ]
    },
    {
     "name": "stdout",
     "output_type": "stream",
     "text": [
      "Val accuracy: 0.826530612244898\n",
      "Epoch 401/1000, Loss: 0.0443\n"
     ]
    },
    {
     "name": "stderr",
     "output_type": "stream",
     "text": [
      "100%|██████████| 13/13 [00:00<00:00, 96.35it/s] \n",
      "100%|██████████| 49/49 [00:00<00:00, 302.61it/s]\n"
     ]
    },
    {
     "name": "stdout",
     "output_type": "stream",
     "text": [
      "Val accuracy: 0.8826530612244898\n",
      "Epoch 411/1000, Loss: 0.0300\n"
     ]
    },
    {
     "name": "stderr",
     "output_type": "stream",
     "text": [
      "100%|██████████| 13/13 [00:00<00:00, 164.08it/s]\n",
      "100%|██████████| 49/49 [00:00<00:00, 272.49it/s]\n"
     ]
    },
    {
     "name": "stdout",
     "output_type": "stream",
     "text": [
      "Val accuracy: 0.8826530612244898\n",
      "Epoch 421/1000, Loss: 0.0487\n"
     ]
    },
    {
     "name": "stderr",
     "output_type": "stream",
     "text": [
      "100%|██████████| 13/13 [00:00<00:00, 135.51it/s]\n",
      "100%|██████████| 49/49 [00:00<00:00, 386.31it/s]\n"
     ]
    },
    {
     "name": "stdout",
     "output_type": "stream",
     "text": [
      "Val accuracy: 0.9005102040816326\n",
      "Epoch 431/1000, Loss: 0.0557\n"
     ]
    },
    {
     "name": "stderr",
     "output_type": "stream",
     "text": [
      "100%|██████████| 13/13 [00:00<00:00, 142.02it/s]\n",
      "100%|██████████| 49/49 [00:00<00:00, 317.76it/s]\n"
     ]
    },
    {
     "name": "stdout",
     "output_type": "stream",
     "text": [
      "Val accuracy: 0.8622448979591837\n",
      "Epoch 441/1000, Loss: 0.0564\n"
     ]
    },
    {
     "name": "stderr",
     "output_type": "stream",
     "text": [
      "100%|██████████| 13/13 [00:00<00:00, 127.92it/s]\n",
      "100%|██████████| 49/49 [00:00<00:00, 396.87it/s]\n"
     ]
    },
    {
     "name": "stdout",
     "output_type": "stream",
     "text": [
      "Val accuracy: 0.8545918367346939\n",
      "Epoch 451/1000, Loss: 0.0373\n"
     ]
    },
    {
     "name": "stderr",
     "output_type": "stream",
     "text": [
      "100%|██████████| 13/13 [00:00<00:00, 106.80it/s]\n",
      "100%|██████████| 49/49 [00:00<00:00, 270.87it/s]\n"
     ]
    },
    {
     "name": "stdout",
     "output_type": "stream",
     "text": [
      "Val accuracy: 0.8596938775510204\n",
      "Epoch 461/1000, Loss: 0.0575\n"
     ]
    },
    {
     "name": "stderr",
     "output_type": "stream",
     "text": [
      "100%|██████████| 13/13 [00:00<00:00, 158.06it/s]\n",
      "100%|██████████| 49/49 [00:00<00:00, 331.71it/s]\n"
     ]
    },
    {
     "name": "stdout",
     "output_type": "stream",
     "text": [
      "Val accuracy: 0.8877551020408163\n",
      "Epoch 471/1000, Loss: 0.0591\n"
     ]
    },
    {
     "name": "stderr",
     "output_type": "stream",
     "text": [
      "100%|██████████| 13/13 [00:00<00:00, 143.68it/s]\n",
      "100%|██████████| 49/49 [00:00<00:00, 305.26it/s]\n"
     ]
    },
    {
     "name": "stdout",
     "output_type": "stream",
     "text": [
      "Val accuracy: 0.8775510204081632\n",
      "Epoch 481/1000, Loss: 0.0582\n"
     ]
    },
    {
     "name": "stderr",
     "output_type": "stream",
     "text": [
      "100%|██████████| 13/13 [00:00<00:00, 121.93it/s]\n",
      "100%|██████████| 49/49 [00:00<00:00, 261.00it/s]\n"
     ]
    },
    {
     "name": "stdout",
     "output_type": "stream",
     "text": [
      "Val accuracy: 0.8647959183673469\n",
      "Epoch 491/1000, Loss: 0.0541\n"
     ]
    },
    {
     "name": "stderr",
     "output_type": "stream",
     "text": [
      "100%|██████████| 13/13 [00:00<00:00, 116.40it/s]\n",
      "100%|██████████| 49/49 [00:00<00:00, 321.03it/s]\n"
     ]
    },
    {
     "name": "stdout",
     "output_type": "stream",
     "text": [
      "Val accuracy: 0.8928571428571429\n",
      "Epoch 501/1000, Loss: 0.0637\n"
     ]
    },
    {
     "name": "stderr",
     "output_type": "stream",
     "text": [
      "100%|██████████| 13/13 [00:00<00:00, 147.40it/s]\n",
      "100%|██████████| 49/49 [00:00<00:00, 302.03it/s]\n"
     ]
    },
    {
     "name": "stdout",
     "output_type": "stream",
     "text": [
      "Val accuracy: 0.8801020408163265\n",
      "Epoch 511/1000, Loss: 0.0672\n"
     ]
    },
    {
     "name": "stderr",
     "output_type": "stream",
     "text": [
      "100%|██████████| 13/13 [00:00<00:00, 149.61it/s]\n",
      "100%|██████████| 49/49 [00:00<00:00, 318.63it/s]\n"
     ]
    },
    {
     "name": "stdout",
     "output_type": "stream",
     "text": [
      "Val accuracy: 0.8469387755102041\n",
      "Epoch 521/1000, Loss: 0.0623\n"
     ]
    },
    {
     "name": "stderr",
     "output_type": "stream",
     "text": [
      "100%|██████████| 13/13 [00:00<00:00, 130.81it/s]\n",
      "100%|██████████| 49/49 [00:00<00:00, 277.50it/s]\n"
     ]
    },
    {
     "name": "stdout",
     "output_type": "stream",
     "text": [
      "Val accuracy: 0.8979591836734694\n",
      "Epoch 531/1000, Loss: 0.0477\n"
     ]
    },
    {
     "name": "stderr",
     "output_type": "stream",
     "text": [
      "100%|██████████| 13/13 [00:00<00:00, 127.29it/s]\n",
      "100%|██████████| 49/49 [00:00<00:00, 273.98it/s]\n"
     ]
    },
    {
     "name": "stdout",
     "output_type": "stream",
     "text": [
      "Val accuracy: 0.8698979591836735\n",
      "Epoch 541/1000, Loss: 0.0046\n"
     ]
    },
    {
     "name": "stderr",
     "output_type": "stream",
     "text": [
      "100%|██████████| 13/13 [00:00<00:00, 144.04it/s]\n",
      "100%|██████████| 49/49 [00:00<00:00, 424.47it/s]\n"
     ]
    },
    {
     "name": "stdout",
     "output_type": "stream",
     "text": [
      "Val accuracy: 0.9056122448979592\n",
      "Epoch 551/1000, Loss: 0.0594\n"
     ]
    },
    {
     "name": "stderr",
     "output_type": "stream",
     "text": [
      "100%|██████████| 13/13 [00:00<00:00, 137.07it/s]\n",
      "100%|██████████| 49/49 [00:00<00:00, 283.34it/s]\n"
     ]
    },
    {
     "name": "stdout",
     "output_type": "stream",
     "text": [
      "Val accuracy: 0.8877551020408163\n",
      "Epoch 561/1000, Loss: 0.0505\n"
     ]
    },
    {
     "name": "stderr",
     "output_type": "stream",
     "text": [
      "100%|██████████| 13/13 [00:00<00:00, 126.18it/s]\n",
      "100%|██████████| 49/49 [00:00<00:00, 386.03it/s]\n"
     ]
    },
    {
     "name": "stdout",
     "output_type": "stream",
     "text": [
      "Val accuracy: 0.8979591836734694\n",
      "Epoch 571/1000, Loss: 0.0504\n"
     ]
    },
    {
     "name": "stderr",
     "output_type": "stream",
     "text": [
      "100%|██████████| 13/13 [00:00<00:00, 155.17it/s]\n",
      "100%|██████████| 49/49 [00:00<00:00, 250.24it/s]\n"
     ]
    },
    {
     "name": "stdout",
     "output_type": "stream",
     "text": [
      "Val accuracy: 0.8903061224489796\n",
      "Epoch 581/1000, Loss: 0.0427\n"
     ]
    },
    {
     "name": "stderr",
     "output_type": "stream",
     "text": [
      "100%|██████████| 13/13 [00:00<00:00, 136.83it/s]\n",
      "100%|██████████| 49/49 [00:00<00:00, 299.03it/s]\n"
     ]
    },
    {
     "name": "stdout",
     "output_type": "stream",
     "text": [
      "Val accuracy: 0.8877551020408163\n",
      "Epoch 591/1000, Loss: 0.0542\n"
     ]
    },
    {
     "name": "stderr",
     "output_type": "stream",
     "text": [
      "100%|██████████| 13/13 [00:00<00:00, 151.39it/s]\n",
      "100%|██████████| 49/49 [00:00<00:00, 319.59it/s]\n"
     ]
    },
    {
     "name": "stdout",
     "output_type": "stream",
     "text": [
      "Val accuracy: 0.8979591836734694\n",
      "Epoch 601/1000, Loss: 0.0445\n"
     ]
    },
    {
     "name": "stderr",
     "output_type": "stream",
     "text": [
      "100%|██████████| 13/13 [00:00<00:00, 137.38it/s]\n",
      "100%|██████████| 49/49 [00:00<00:00, 254.49it/s]\n"
     ]
    },
    {
     "name": "stdout",
     "output_type": "stream",
     "text": [
      "Val accuracy: 0.9132653061224489\n",
      "Epoch 611/1000, Loss: 0.0157\n"
     ]
    },
    {
     "name": "stderr",
     "output_type": "stream",
     "text": [
      "100%|██████████| 13/13 [00:00<00:00, 140.77it/s]\n",
      "100%|██████████| 49/49 [00:00<00:00, 298.23it/s]\n"
     ]
    },
    {
     "name": "stdout",
     "output_type": "stream",
     "text": [
      "Val accuracy: 0.8954081632653061\n",
      "Epoch 621/1000, Loss: 0.0648\n"
     ]
    },
    {
     "name": "stderr",
     "output_type": "stream",
     "text": [
      "100%|██████████| 13/13 [00:00<00:00, 131.39it/s]\n",
      "100%|██████████| 49/49 [00:00<00:00, 289.21it/s]\n"
     ]
    },
    {
     "name": "stdout",
     "output_type": "stream",
     "text": [
      "Val accuracy: 0.9132653061224489\n",
      "Epoch 631/1000, Loss: 0.0362\n"
     ]
    },
    {
     "name": "stderr",
     "output_type": "stream",
     "text": [
      "100%|██████████| 13/13 [00:00<00:00, 117.15it/s]\n",
      "100%|██████████| 49/49 [00:00<00:00, 265.21it/s]\n"
     ]
    },
    {
     "name": "stdout",
     "output_type": "stream",
     "text": [
      "Val accuracy: 0.8801020408163265\n",
      "Epoch 641/1000, Loss: 0.1028\n"
     ]
    },
    {
     "name": "stderr",
     "output_type": "stream",
     "text": [
      "100%|██████████| 13/13 [00:00<00:00, 133.99it/s]\n",
      "100%|██████████| 49/49 [00:00<00:00, 302.63it/s]\n"
     ]
    },
    {
     "name": "stdout",
     "output_type": "stream",
     "text": [
      "Val accuracy: 0.8724489795918368\n",
      "Epoch 651/1000, Loss: 0.0513\n"
     ]
    },
    {
     "name": "stderr",
     "output_type": "stream",
     "text": [
      "100%|██████████| 13/13 [00:00<00:00, 144.53it/s]\n",
      "100%|██████████| 49/49 [00:00<00:00, 287.01it/s]\n"
     ]
    },
    {
     "name": "stdout",
     "output_type": "stream",
     "text": [
      "Val accuracy: 0.8673469387755102\n",
      "Epoch 661/1000, Loss: 0.0447\n"
     ]
    },
    {
     "name": "stderr",
     "output_type": "stream",
     "text": [
      "100%|██████████| 13/13 [00:00<00:00, 121.99it/s]\n",
      "100%|██████████| 49/49 [00:00<00:00, 409.49it/s]\n"
     ]
    },
    {
     "name": "stdout",
     "output_type": "stream",
     "text": [
      "Val accuracy: 0.8826530612244898\n",
      "Epoch 671/1000, Loss: 0.0206\n"
     ]
    },
    {
     "name": "stderr",
     "output_type": "stream",
     "text": [
      "100%|██████████| 13/13 [00:00<00:00, 131.75it/s]\n",
      "100%|██████████| 49/49 [00:00<00:00, 255.20it/s]\n"
     ]
    },
    {
     "name": "stdout",
     "output_type": "stream",
     "text": [
      "Val accuracy: 0.8801020408163265\n",
      "Epoch 681/1000, Loss: 0.0363\n"
     ]
    },
    {
     "name": "stderr",
     "output_type": "stream",
     "text": [
      "100%|██████████| 13/13 [00:00<00:00, 172.25it/s]\n",
      "100%|██████████| 49/49 [00:00<00:00, 335.36it/s]\n"
     ]
    },
    {
     "name": "stdout",
     "output_type": "stream",
     "text": [
      "Val accuracy: 0.9056122448979592\n",
      "Epoch 691/1000, Loss: 0.0456\n"
     ]
    },
    {
     "name": "stderr",
     "output_type": "stream",
     "text": [
      "100%|██████████| 13/13 [00:00<00:00, 131.22it/s]\n",
      "100%|██████████| 49/49 [00:00<00:00, 303.18it/s]\n"
     ]
    },
    {
     "name": "stdout",
     "output_type": "stream",
     "text": [
      "Val accuracy: 0.8852040816326531\n",
      "Epoch 701/1000, Loss: 0.0291\n"
     ]
    },
    {
     "name": "stderr",
     "output_type": "stream",
     "text": [
      "100%|██████████| 13/13 [00:00<00:00, 128.07it/s]\n",
      "100%|██████████| 49/49 [00:00<00:00, 250.14it/s]\n"
     ]
    },
    {
     "name": "stdout",
     "output_type": "stream",
     "text": [
      "Val accuracy: 0.9183673469387755\n",
      "Epoch 711/1000, Loss: 0.0653\n"
     ]
    },
    {
     "name": "stderr",
     "output_type": "stream",
     "text": [
      "100%|██████████| 13/13 [00:00<00:00, 141.87it/s]\n",
      "100%|██████████| 49/49 [00:00<00:00, 287.17it/s]\n"
     ]
    },
    {
     "name": "stdout",
     "output_type": "stream",
     "text": [
      "Val accuracy: 0.8928571428571429\n",
      "Epoch 721/1000, Loss: 0.0826\n"
     ]
    },
    {
     "name": "stderr",
     "output_type": "stream",
     "text": [
      "100%|██████████| 13/13 [00:00<00:00, 129.04it/s]\n",
      "100%|██████████| 49/49 [00:00<00:00, 258.04it/s]\n"
     ]
    },
    {
     "name": "stdout",
     "output_type": "stream",
     "text": [
      "Val accuracy: 0.8214285714285714\n",
      "Epoch 731/1000, Loss: 0.0512\n"
     ]
    },
    {
     "name": "stderr",
     "output_type": "stream",
     "text": [
      "100%|██████████| 13/13 [00:00<00:00, 160.05it/s]\n",
      "100%|██████████| 49/49 [00:00<00:00, 285.24it/s]\n"
     ]
    },
    {
     "name": "stdout",
     "output_type": "stream",
     "text": [
      "Val accuracy: 0.8877551020408163\n",
      "Epoch 741/1000, Loss: 0.0571\n"
     ]
    },
    {
     "name": "stderr",
     "output_type": "stream",
     "text": [
      "100%|██████████| 13/13 [00:00<00:00, 118.77it/s]\n",
      "100%|██████████| 49/49 [00:00<00:00, 288.08it/s]\n"
     ]
    },
    {
     "name": "stdout",
     "output_type": "stream",
     "text": [
      "Val accuracy: 0.9158163265306123\n",
      "Epoch 751/1000, Loss: 0.0443\n"
     ]
    },
    {
     "name": "stderr",
     "output_type": "stream",
     "text": [
      "100%|██████████| 13/13 [00:00<00:00, 126.77it/s]\n",
      "100%|██████████| 49/49 [00:00<00:00, 309.91it/s]\n"
     ]
    },
    {
     "name": "stdout",
     "output_type": "stream",
     "text": [
      "Val accuracy: 0.8852040816326531\n",
      "Epoch 761/1000, Loss: 0.0419\n"
     ]
    },
    {
     "name": "stderr",
     "output_type": "stream",
     "text": [
      "100%|██████████| 13/13 [00:00<00:00, 143.94it/s]\n",
      "100%|██████████| 49/49 [00:00<00:00, 293.99it/s]\n"
     ]
    },
    {
     "name": "stdout",
     "output_type": "stream",
     "text": [
      "Val accuracy: 0.8622448979591837\n",
      "Epoch 771/1000, Loss: 0.0368\n"
     ]
    },
    {
     "name": "stderr",
     "output_type": "stream",
     "text": [
      "100%|██████████| 13/13 [00:00<00:00, 124.38it/s]\n",
      "100%|██████████| 49/49 [00:00<00:00, 332.84it/s]\n"
     ]
    },
    {
     "name": "stdout",
     "output_type": "stream",
     "text": [
      "Val accuracy: 0.8903061224489796\n",
      "Epoch 781/1000, Loss: 0.0707\n"
     ]
    },
    {
     "name": "stderr",
     "output_type": "stream",
     "text": [
      "100%|██████████| 13/13 [00:00<00:00, 125.15it/s]\n",
      "100%|██████████| 49/49 [00:00<00:00, 254.47it/s]\n"
     ]
    },
    {
     "name": "stdout",
     "output_type": "stream",
     "text": [
      "Val accuracy: 0.875\n",
      "Epoch 791/1000, Loss: 0.0369\n"
     ]
    },
    {
     "name": "stderr",
     "output_type": "stream",
     "text": [
      "100%|██████████| 13/13 [00:00<00:00, 169.70it/s]\n",
      "100%|██████████| 49/49 [00:00<00:00, 302.13it/s]\n"
     ]
    },
    {
     "name": "stdout",
     "output_type": "stream",
     "text": [
      "Val accuracy: 0.9209183673469388\n",
      "Epoch 801/1000, Loss: 0.0458\n"
     ]
    },
    {
     "name": "stderr",
     "output_type": "stream",
     "text": [
      "100%|██████████| 13/13 [00:00<00:00, 149.43it/s]\n",
      "100%|██████████| 49/49 [00:00<00:00, 380.76it/s]\n"
     ]
    },
    {
     "name": "stdout",
     "output_type": "stream",
     "text": [
      "Val accuracy: 0.9056122448979592\n",
      "Epoch 811/1000, Loss: 0.0467\n"
     ]
    },
    {
     "name": "stderr",
     "output_type": "stream",
     "text": [
      "100%|██████████| 13/13 [00:00<00:00, 124.50it/s]\n",
      "100%|██████████| 49/49 [00:00<00:00, 301.12it/s]\n"
     ]
    },
    {
     "name": "stdout",
     "output_type": "stream",
     "text": [
      "Val accuracy: 0.8852040816326531\n",
      "Epoch 821/1000, Loss: 0.0267\n"
     ]
    },
    {
     "name": "stderr",
     "output_type": "stream",
     "text": [
      "100%|██████████| 13/13 [00:00<00:00, 134.43it/s]\n",
      "100%|██████████| 49/49 [00:00<00:00, 247.51it/s]\n"
     ]
    },
    {
     "name": "stdout",
     "output_type": "stream",
     "text": [
      "Val accuracy: 0.9081632653061225\n",
      "Epoch 831/1000, Loss: 0.0474\n"
     ]
    },
    {
     "name": "stderr",
     "output_type": "stream",
     "text": [
      "100%|██████████| 13/13 [00:00<00:00, 130.90it/s]\n",
      "100%|██████████| 49/49 [00:00<00:00, 295.63it/s]\n"
     ]
    },
    {
     "name": "stdout",
     "output_type": "stream",
     "text": [
      "Val accuracy: 0.8877551020408163\n",
      "Epoch 841/1000, Loss: 0.0148\n"
     ]
    },
    {
     "name": "stderr",
     "output_type": "stream",
     "text": [
      "100%|██████████| 13/13 [00:00<00:00, 165.05it/s]\n",
      "100%|██████████| 49/49 [00:00<00:00, 332.90it/s]\n"
     ]
    },
    {
     "name": "stdout",
     "output_type": "stream",
     "text": [
      "Val accuracy: 0.8954081632653061\n",
      "Epoch 851/1000, Loss: 0.0648\n"
     ]
    },
    {
     "name": "stderr",
     "output_type": "stream",
     "text": [
      "100%|██████████| 13/13 [00:00<00:00, 149.01it/s]\n",
      "100%|██████████| 49/49 [00:00<00:00, 314.83it/s]\n"
     ]
    },
    {
     "name": "stdout",
     "output_type": "stream",
     "text": [
      "Val accuracy: 0.8571428571428571\n",
      "Epoch 861/1000, Loss: 0.0774\n"
     ]
    },
    {
     "name": "stderr",
     "output_type": "stream",
     "text": [
      "100%|██████████| 13/13 [00:00<00:00, 125.28it/s]\n",
      "100%|██████████| 49/49 [00:00<00:00, 277.02it/s]\n"
     ]
    },
    {
     "name": "stdout",
     "output_type": "stream",
     "text": [
      "Val accuracy: 0.8341836734693877\n",
      "Epoch 871/1000, Loss: 0.0594\n"
     ]
    },
    {
     "name": "stderr",
     "output_type": "stream",
     "text": [
      "100%|██████████| 13/13 [00:00<00:00, 127.57it/s]\n",
      "100%|██████████| 49/49 [00:00<00:00, 273.55it/s]\n"
     ]
    },
    {
     "name": "stdout",
     "output_type": "stream",
     "text": [
      "Val accuracy: 0.8673469387755102\n",
      "Epoch 881/1000, Loss: 0.0408\n"
     ]
    },
    {
     "name": "stderr",
     "output_type": "stream",
     "text": [
      "100%|██████████| 13/13 [00:00<00:00, 170.63it/s]\n",
      "100%|██████████| 49/49 [00:00<00:00, 303.32it/s]\n"
     ]
    },
    {
     "name": "stdout",
     "output_type": "stream",
     "text": [
      "Val accuracy: 0.9056122448979592\n",
      "Epoch 891/1000, Loss: 0.0951\n"
     ]
    },
    {
     "name": "stderr",
     "output_type": "stream",
     "text": [
      "100%|██████████| 13/13 [00:00<00:00, 129.08it/s]\n",
      "100%|██████████| 49/49 [00:00<00:00, 368.74it/s]\n"
     ]
    },
    {
     "name": "stdout",
     "output_type": "stream",
     "text": [
      "Val accuracy: 0.8979591836734694\n",
      "Epoch 901/1000, Loss: 0.1096\n"
     ]
    },
    {
     "name": "stderr",
     "output_type": "stream",
     "text": [
      "100%|██████████| 13/13 [00:00<00:00, 135.32it/s]\n",
      "100%|██████████| 49/49 [00:00<00:00, 288.81it/s]\n"
     ]
    },
    {
     "name": "stdout",
     "output_type": "stream",
     "text": [
      "Val accuracy: 0.5382653061224489\n",
      "Epoch 911/1000, Loss: 0.1056\n"
     ]
    },
    {
     "name": "stderr",
     "output_type": "stream",
     "text": [
      "100%|██████████| 13/13 [00:00<00:00, 142.48it/s]\n",
      "100%|██████████| 49/49 [00:00<00:00, 351.99it/s]\n"
     ]
    },
    {
     "name": "stdout",
     "output_type": "stream",
     "text": [
      "Val accuracy: 0.6275510204081632\n",
      "Epoch 921/1000, Loss: 0.0971\n"
     ]
    },
    {
     "name": "stderr",
     "output_type": "stream",
     "text": [
      "100%|██████████| 13/13 [00:00<00:00, 166.01it/s]\n",
      "100%|██████████| 49/49 [00:00<00:00, 274.19it/s]\n"
     ]
    },
    {
     "name": "stdout",
     "output_type": "stream",
     "text": [
      "Val accuracy: 0.7525510204081632\n",
      "Epoch 931/1000, Loss: 0.0644\n"
     ]
    },
    {
     "name": "stderr",
     "output_type": "stream",
     "text": [
      "100%|██████████| 13/13 [00:00<00:00, 130.16it/s]\n",
      "100%|██████████| 49/49 [00:00<00:00, 333.51it/s]\n"
     ]
    },
    {
     "name": "stdout",
     "output_type": "stream",
     "text": [
      "Val accuracy: 0.8826530612244898\n",
      "Epoch 941/1000, Loss: 0.0488\n"
     ]
    },
    {
     "name": "stderr",
     "output_type": "stream",
     "text": [
      "100%|██████████| 13/13 [00:00<00:00, 132.05it/s]\n",
      "100%|██████████| 49/49 [00:00<00:00, 260.83it/s]\n"
     ]
    },
    {
     "name": "stdout",
     "output_type": "stream",
     "text": [
      "Val accuracy: 0.8903061224489796\n",
      "Epoch 951/1000, Loss: 0.0376\n"
     ]
    },
    {
     "name": "stderr",
     "output_type": "stream",
     "text": [
      "100%|██████████| 13/13 [00:00<00:00, 139.55it/s]\n",
      "100%|██████████| 49/49 [00:00<00:00, 383.43it/s]\n"
     ]
    },
    {
     "name": "stdout",
     "output_type": "stream",
     "text": [
      "Val accuracy: 0.9081632653061225\n",
      "Epoch 961/1000, Loss: 0.0563\n"
     ]
    },
    {
     "name": "stderr",
     "output_type": "stream",
     "text": [
      "100%|██████████| 13/13 [00:00<00:00, 156.33it/s]\n",
      "100%|██████████| 49/49 [00:00<00:00, 292.35it/s]\n"
     ]
    },
    {
     "name": "stdout",
     "output_type": "stream",
     "text": [
      "Val accuracy: 0.9030612244897959\n",
      "Epoch 971/1000, Loss: 0.0415\n"
     ]
    },
    {
     "name": "stderr",
     "output_type": "stream",
     "text": [
      "100%|██████████| 13/13 [00:00<00:00, 144.15it/s]\n",
      "100%|██████████| 49/49 [00:00<00:00, 319.71it/s]\n"
     ]
    },
    {
     "name": "stdout",
     "output_type": "stream",
     "text": [
      "Val accuracy: 0.8979591836734694\n",
      "Epoch 981/1000, Loss: 0.0353\n"
     ]
    },
    {
     "name": "stderr",
     "output_type": "stream",
     "text": [
      "100%|██████████| 13/13 [00:00<00:00, 156.73it/s]\n",
      "100%|██████████| 49/49 [00:00<00:00, 385.67it/s]\n"
     ]
    },
    {
     "name": "stdout",
     "output_type": "stream",
     "text": [
      "Val accuracy: 0.8698979591836735\n",
      "Epoch 991/1000, Loss: 0.0488\n"
     ]
    },
    {
     "name": "stderr",
     "output_type": "stream",
     "text": [
      "100%|██████████| 13/13 [00:00<00:00, 104.44it/s]\n",
      "100%|██████████| 49/49 [00:00<00:00, 311.30it/s]\n"
     ]
    },
    {
     "name": "stdout",
     "output_type": "stream",
     "text": [
      "Val accuracy: 0.875\n"
     ]
    }
   ],
   "source": [
    "import torch\n",
    "import torch.nn.functional as F\n",
    "from torch.amp import autocast, GradScaler\n",
    "import torch.optim as optim\n",
    "from tqdm import tqdm\n",
    "import json\n",
    "\n",
    "batch_size = 512\n",
    "\n",
    "train_loader = DataLoader(train_dataset, batch_size=batch_size, shuffle=True)\n",
    "val_loader = DataLoader(val_dataset, batch_size=batch_size, shuffle=False)\n",
    "history = {\"train\": [], \"val\": [], \"best_accuracy\": 0.0}\n",
    "\n",
    "scaler = GradScaler()  # Helps manage fp16 gradients\n",
    "\n",
    "optimizer = optim.Adam(model.parameters(), lr=1e-3)\n",
    "epochs = 1000\n",
    "\n",
    "for epoch in range(epochs):\n",
    "    model.train()\n",
    "    epoch_loss = 0\n",
    "\n",
    "    for x, label in train_loader:\n",
    "        x, label = x.to(device), label.to(device)\n",
    "\n",
    "        optimizer.zero_grad()\n",
    "\n",
    "        with autocast(dtype=torch.float16, device_type=device.type): \n",
    "            embeddings = model(x)\n",
    "            indices_tuple = mining_func(embeddings, label)\n",
    "            loss = loss_func(embeddings, label, indices_tuple)\n",
    "\n",
    "        # Backpropagation with scaled gradients\n",
    "        scaler.scale(loss).backward()\n",
    "        scaler.step(optimizer)\n",
    "        scaler.update()\n",
    "\n",
    "        epoch_loss += loss.item()\n",
    "\n",
    "\n",
    "\n",
    "\n",
    "    if epoch %10 == 0:\n",
    "        # model validation\n",
    "        model.eval()\n",
    "        avg_loss = epoch_loss / len(train_loader)\n",
    "        print(f\"Epoch {epoch+1}/{epochs}, Loss: {avg_loss:.4f}\")\n",
    "        \n",
    "        with torch.no_grad():\n",
    "            # as all embeddings need to be stored in memory\n",
    "            # you can set DEVICE = torch.device('cpu') in case gpu memory overflow occurs\n",
    "            accuracy = get_accuracy(val_dataset, train_dataset, model, device.type)\n",
    "            \n",
    "            history[\"val\"].append({\"epoch\": epoch, \"accuracy\": accuracy})\n",
    "            print(f\"Val accuracy: {accuracy}\")\n",
    "            \n",
    "            # save model\n",
    "            torch.save(model.state_dict(), f\"{SAVE_PATH}/model_latest.pth\")\n",
    "            \n",
    "            if accuracy >= history[\"best_accuracy\"]:\n",
    "                history[\"best_accuracy\"] = accuracy\n",
    "                torch.save(model.state_dict(), f\"{SAVE_PATH}/model_best.pth\")\n",
    "\n",
    "            with open(\"history.json\", \"w\") as f:\n",
    "                f.write(json.dumps(history))"
   ]
  },
  {
   "cell_type": "code",
   "execution_count": 9,
   "id": "7edd19a6",
   "metadata": {},
   "outputs": [
    {
     "name": "stderr",
     "output_type": "stream",
     "text": [
      "100%|██████████| 13/13 [00:00<00:00, 114.85it/s]\n",
      "100%|██████████| 49/49 [00:00<00:00, 380.05it/s]"
     ]
    },
    {
     "name": "stdout",
     "output_type": "stream",
     "text": [
      "Val accuracy: 0.9821428571428571\n"
     ]
    },
    {
     "name": "stderr",
     "output_type": "stream",
     "text": [
      "\n"
     ]
    }
   ],
   "source": [
    "\n",
    "model.load_state_dict(torch.load(\"/home/s/python_progs/DL_homeworks/deep-metric-ts-clustering/notebooks/model/model_GRU_absolute_best.pth\", map_location=torch.device(\"cuda\")))\n",
    "model.to(\"cuda\")\n",
    "\n",
    "model.eval()\n",
    "\n",
    "with torch.no_grad():\n",
    "    # as all embeddings need to be stored in memory\n",
    "    # you can set DEVICE = torch.device('cpu') in case gpu memory overflow occurs\n",
    "    accuracy = get_accuracy(val_dataset, train_dataset, model, device.type)\n",
    "    \n",
    "    print(f\"Val accuracy: {accuracy}\")"
   ]
  },
  {
   "cell_type": "code",
   "execution_count": null,
   "id": "279244ff",
   "metadata": {},
   "outputs": [],
   "source": []
  }
 ],
 "metadata": {
  "kernelspec": {
   "display_name": "env",
   "language": "python",
   "name": "python3"
  },
  "language_info": {
   "codemirror_mode": {
    "name": "ipython",
    "version": 3
   },
   "file_extension": ".py",
   "mimetype": "text/x-python",
   "name": "python",
   "nbconvert_exporter": "python",
   "pygments_lexer": "ipython3",
   "version": "3.10.12"
  }
 },
 "nbformat": 4,
 "nbformat_minor": 5
}
